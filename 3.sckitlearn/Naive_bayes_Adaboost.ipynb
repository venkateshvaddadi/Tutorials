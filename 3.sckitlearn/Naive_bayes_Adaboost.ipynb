{
 "cells": [
  {
   "cell_type": "markdown",
   "metadata": {},
   "source": [
    "### Strategies for Training and and Evaluation, Metrics used in ML"
   ]
  },
  {
   "cell_type": "markdown",
   "metadata": {},
   "source": [
    "\n",
    "In order to test our ML methods we divide our dataset into 3 seperate portions training set, validation set and testing set.Training set is what we feed to the model in order for it to learn to solve the problem at hand.\n",
    "\n",
    "Hyper-parameters are special variables that can be used to control the learning process. These are not learnt during the training stage but are often tweaked based on the performance of the algorithm on another dataset called the validation set.\n",
    "\n",
    "Testing set is finally used to evaluate the performance of the model on unseen data.Unlike validation which does contribute indirectly to the training of the algorithm,testing is unseen and hence is used to compare the algorithm's performance with other algorithms or training paradigms.\n",
    "\n",
    "Common convention suggests the division of training,validation and test set in the ratio 7:1:2.But this ratio is flexible and highly depends on the problem at hand."
   ]
  },
  {
   "cell_type": "markdown",
   "metadata": {},
   "source": [
    "\n",
    "We also need metrics to evaluate our algorithms and some of the common ones are :\n",
    "<ul>\n",
    "<li>Accuracy</li>\n",
    "<li>Precision</li>\n",
    "<li>Recall</li>\n",
    "<li>F1-score</li>\n",
    "<li>AUC score </li>\n",
    "</ul>"
   ]
  },
  {
   "cell_type": "markdown",
   "metadata": {},
   "source": [
    "Before looking into the metrics let's see the concept of confusion matrix.It's matrix that allows us to visualize the performance of the model in a tabular format and many of the above scores can be derived from it.\n",
    "In supervised learning for a binary classification problem confusion matrix can be seen as \n",
    "\n",
    "\n"
   ]
  },
  {
   "cell_type": "markdown",
   "metadata": {},
   "source": [
    "<table align='center'>\n",
    "  <tr>\n",
    "    <th></th>\n",
    "    <th>Predicted Positive</th>\n",
    "    <th>Predicted Negative</th>\n",
    "  </tr>\n",
    "  <tr>\n",
    "    <td><b>Actual Positive</b></td>\n",
    "    <td>True Positive(TP)</td>\n",
    "    <td>False Negative(FN)</td>\n",
    "  </tr>\n",
    "  <tr>\n",
    "    <td><b>Actual Negative</b></td>\n",
    "    <td>False Positive(FP)</td>\n",
    "    <td>True Negative(TN)</td>\n",
    "  </tr>\n",
    "</table>\n"
   ]
  },
  {
   "cell_type": "markdown",
   "metadata": {},
   "source": [
    "The scores can now be represented as constituents of the elements of Confusion matrix."
   ]
  },
  {
   "cell_type": "markdown",
   "metadata": {},
   "source": [
    "The formula for the different scores are:"
   ]
  },
  {
   "cell_type": "code",
   "execution_count": 158,
   "metadata": {
    "vscode": {
     "languageId": "latex"
    }
   },
   "outputs": [
    {
     "data": {
      "text/latex": [
       "$$Accuracy = \\frac{TP+TN}{TP+TN+FP+FN}$$\n",
       "$$Precision = \\frac{TP}{TP+FP}$$\n",
       "$$Recall = \\frac{TP}{TP+FN}$$\n",
       "$$F1 = \\frac{2*Precision*Recall}{Precision+Recall} = \\frac{2*TP}{2*TP+FP+FN}$$\n"
      ],
      "text/plain": [
       "<IPython.core.display.Latex object>"
      ]
     },
     "metadata": {},
     "output_type": "display_data"
    }
   ],
   "source": [
    "%%latex\n",
    "$$Accuracy = \\frac{TP+TN}{TP+TN+FP+FN}$$\n",
    "$$Precision = \\frac{TP}{TP+FP}$$\n",
    "$$Recall = \\frac{TP}{TP+FN}$$\n",
    "$$F1 = \\frac{2*Precision*Recall}{Precision+Recall} = \\frac{2*TP}{2*TP+FP+FN}$$"
   ]
  },
  {
   "cell_type": "markdown",
   "metadata": {},
   "source": [
    "AUC score is calculated as the Area Under the Sensitivity(TPR)-(1-Specificity)$(FPR) Curve."
   ]
  },
  {
   "cell_type": "code",
   "execution_count": 160,
   "metadata": {
    "vscode": {
     "languageId": "latex"
    }
   },
   "outputs": [
    {
     "data": {
      "text/latex": [
       "$$Sensitivity = Recall = \\frac{TP}{TP+FN}$$\n",
       "$$Specificity = \\frac{TN}{FP+TN}$$\n"
      ],
      "text/plain": [
       "<IPython.core.display.Latex object>"
      ]
     },
     "metadata": {},
     "output_type": "display_data"
    }
   ],
   "source": [
    "%%latex\n",
    "$$Sensitivity = Recall = \\frac{TP}{TP+FN}$$\n",
    "$$Specificity = \\frac{TN}{FP+TN}$$\n"
   ]
  },
  {
   "cell_type": "markdown",
   "metadata": {},
   "source": [
    "### Overview of open-source datasets\n"
   ]
  },
  {
   "cell_type": "markdown",
   "metadata": {},
   "source": [
    "\n",
    "Training Machine Learning algorithms requires data.The entire process involving collection,curation and labelling if any of the datasets requires a lot of resources.Fortunately, we have open-sources where such datasets are made available under minimal licensing.\n",
    "<br>\n",
    "Some dataset aggregators are :\n",
    "<ul>\n",
    "<li><a href = \"https://archive.ics.uci.edu\">UCI Machine Learning Repository</a></li>\n",
    "<li><a href = \"https://www.kaggle.com/\">Kaggle</a></li>\n",
    "<li><a href = \"https://www.openml.org/\">OpenML</a></li>\n",
    "</ul> "
   ]
  },
  {
   "cell_type": "markdown",
   "metadata": {},
   "source": [
    "\n",
    "We will be using MNIST dataset for the following ML algorithms.MNIST is a dataset of handwritten digits ranging from 0-9.Each digit is represented as a pixel image of 28x28 dimension.The dataset contains vectorized representation of the said image as 784 dimensional vector. To work with this dataset we will Scikit-learn to fetch it from openml."
   ]
  },
  {
   "cell_type": "code",
   "execution_count": 140,
   "metadata": {},
   "outputs": [],
   "source": [
    "import numpy as np\n",
    "import pandas as pd\n",
    "from sklearn import datasets\n",
    "from sklearn.model_selection import train_test_split\n",
    "from sklearn.metrics import accuracy_score,f1_score,recall_score,precision_score\n"
   ]
  },
  {
   "cell_type": "code",
   "execution_count": null,
   "metadata": {},
   "outputs": [],
   "source": [
    "X,y = datasets.fetch_openml(\"mnist_784\", version=1, return_X_y=True,as_frame=True)"
   ]
  },
  {
   "cell_type": "markdown",
   "metadata": {},
   "source": [
    "Lets visualize some of the digits"
   ]
  },
  {
   "cell_type": "code",
   "execution_count": 108,
   "metadata": {},
   "outputs": [
    {
     "data": {
      "image/png": "[encoded data removed]",
      "text/plain": [
       "<Figure size 432x288 with 5 Axes>"
      ]
     },
     "metadata": {
      "needs_background": "light"
     },
     "output_type": "display_data"
    }
   ],
   "source": [
    "import matplotlib.pyplot as plt\n",
    "for i in range(5):\n",
    "    plt.subplot(1,5,i+1)\n",
    "    plt.axis('off')\n",
    "    plt.imshow(X.loc[i].values.reshape(28,28))"
   ]
  },
  {
   "cell_type": "code",
   "execution_count": 110,
   "metadata": {},
   "outputs": [
    {
     "data": {
      "text/plain": [
       "1    7877\n",
       "7    7293\n",
       "3    7141\n",
       "2    6990\n",
       "9    6958\n",
       "0    6903\n",
       "6    6876\n",
       "8    6825\n",
       "4    6824\n",
       "5    6313\n",
       "Name: class, dtype: int64"
      ]
     },
     "execution_count": 110,
     "metadata": {},
     "output_type": "execute_result"
    }
   ],
   "source": [
    "#Another thing we can check is whether there is class imbalance among the digits which we can see there is some\n",
    "#but they are very close in frequency so we don't need to take imbalance into consideration.\n",
    "y.value_counts()"
   ]
  },
  {
   "cell_type": "code",
   "execution_count": null,
   "metadata": {},
   "outputs": [],
   "source": [
    "# Lets divide our dataset into train and test with a split of 0.8 and 0.2\n",
    "X_train, X_test, y_train, y_test = train_test_split(X, y, test_size=0.2, random_state=0)"
   ]
  },
  {
   "cell_type": "markdown",
   "metadata": {},
   "source": [
    "Question : We saw how our dataset is made of digits represented as a 784 dimensional vector.Can we somehow reduce the dimension and how will that affect the classification performance among different models?(Hint : PCA) "
   ]
  },
  {
   "cell_type": "code",
   "execution_count": 126,
   "metadata": {
    "vscode": {
     "languageId": "latex"
    }
   },
   "outputs": [
    {
     "data": {
      "text/latex": [
       "### Naive Bayes Classifier\n",
       "Naive Bayes Classifier is based on Bayes' theorem where we assume conditional independence among the different pair features given the value of the class label.Given the class label y and features $x_{1}$ through $x_{n}$\n",
       "$$P(y \\mid x_1, \\dots, x_n) = \\frac{P(y) P(x_1, \\dots, x_n \\mid y)}{P(x_1, \\dots, x_n)}$$\n",
       "\n",
       "As we assume them to be conditionally independent hence we can say\n",
       "$$P(x_1, \\dots, x_n \\mid y) = \\prod_{i=1}^{n} P(x_i \\mid y)$$\n",
       "\n",
       "Also as $P(x_1, \\dots, x_n)$ also called evidence, works as a scaling factor to make the probabilites sum up to 1 hence we can remove it to get\n",
       "$$\\begin{align}\\begin{aligned}P(y \\mid x_1, \\dots, x_n) \\propto P(y) \\prod_{i=1}^{n} P(x_i \\mid y)\\\\\\Downarrow\\\\\\hat{y} = \\arg\\max_y P(y) \\prod_{i=1}^{n} P(x_i \\mid y),\\end{aligned}\\end{align}$$\n",
       "\n",
       "Reference: <a href=\"https://scikit-learn.org/stable/modules/naive_bayes.html#naive-bayes\"> Naive Bayes scikit-learn </a>\n"
      ],
      "text/plain": [
       "<IPython.core.display.Latex object>"
      ]
     },
     "metadata": {},
     "output_type": "display_data"
    }
   ],
   "source": [
    "%%latex\n",
    "### Naive Bayes Classifier\n",
    "Naive Bayes Classifier is based on Bayes' theorem where we assume conditional independence among the different pair features given the value of the class label.Given the class label y and features $x_{1}$ through $x_{n}$\n",
    "$$P(y \\mid x_1, \\dots, x_n) = \\frac{P(y) P(x_1, \\dots, x_n \\mid y)}{P(x_1, \\dots, x_n)}$$\n",
    "\n",
    "As we assume them to be conditionally independent hence we can say\n",
    "$$P(x_1, \\dots, x_n \\mid y) = \\prod_{i=1}^{n} P(x_i \\mid y)$$\n",
    "\n",
    "Also as $P(x_1, \\dots, x_n)$ also called evidence, works as a scaling factor to make the probabilites sum up to 1 hence we can remove it to get\n",
    "$$\\begin{align}\\begin{aligned}P(y \\mid x_1, \\dots, x_n) \\propto P(y) \\prod_{i=1}^{n} P(x_i \\mid y)\\\\\\Downarrow\\\\\\hat{y} = \\arg\\max_y P(y) \\prod_{i=1}^{n} P(x_i \\mid y),\\end{aligned}\\end{align}$$\n",
    "\n",
    "Reference: <a href=\"https://scikit-learn.org/stable/modules/naive_bayes.html#naive-bayes\"> Naive Bayes scikit-learn </a>"
   ]
  },
  {
   "cell_type": "code",
   "execution_count": 66,
   "metadata": {},
   "outputs": [],
   "source": [
    "from sklearn.naive_bayes import GaussianNB,MultinomialNB,BernoulliNB"
   ]
  },
  {
   "cell_type": "code",
   "execution_count": 144,
   "metadata": {},
   "outputs": [
    {
     "name": "stdout",
     "output_type": "stream",
     "text": [
      "The classification accuracy, f1-score, precision and recall were 0.55, 0.51, 0.68 and 0.55\n"
     ]
    }
   ],
   "source": [
    "gnb = GaussianNB()\n",
    "y_pred = gnb.fit(X_train, y_train).predict(X_test)\n",
    "print(\"The classification accuracy, f1-score, precision and recall were\",f'{accuracy_score(y_test,y_pred):.2f},',f'{f1_score(y_test,y_pred,average=\"weighted\"):.2f},',f'{precision_score(y_test,y_pred,average=\"weighted\"):.2f}',\"and\",f'{recall_score(y_test,y_pred,average=\"weighted\"):.2f}')"
   ]
  },
  {
   "cell_type": "code",
   "execution_count": 145,
   "metadata": {},
   "outputs": [
    {
     "name": "stdout",
     "output_type": "stream",
     "text": [
      "The classification accuracy, f1-score, precision and recall were 0.82, 0.82, 0.83 and 0.82\n"
     ]
    }
   ],
   "source": [
    "mnb = MultinomialNB()\n",
    "y_pred = mnb.fit(X_train, y_train).predict(X_test)\n",
    "print(\"The classification accuracy, f1-score, precision and recall were\",f'{accuracy_score(y_test,y_pred):.2f},',f'{f1_score(y_test,y_pred,average=\"weighted\"):.2f},',f'{precision_score(y_test,y_pred,average=\"weighted\"):.2f}',\"and\",f'{recall_score(y_test,y_pred,average=\"weighted\"):.2f}')"
   ]
  },
  {
   "cell_type": "code",
   "execution_count": 146,
   "metadata": {},
   "outputs": [
    {
     "name": "stdout",
     "output_type": "stream",
     "text": [
      "The classification accuracy, f1-score, precision and recall were 0.83, 0.83, 0.83 and 0.83\n"
     ]
    }
   ],
   "source": [
    "bnb = BernoulliNB()\n",
    "y_pred = bnb.fit(X_train, y_train).predict(X_test)\n",
    "print(\"The classification accuracy, f1-score, precision and recall were\",f'{accuracy_score(y_test,y_pred):.2f},',f'{f1_score(y_test,y_pred,average=\"weighted\"):.2f},',f'{precision_score(y_test,y_pred,average=\"weighted\"):.2f}',\"and\",f'{recall_score(y_test,y_pred,average=\"weighted\"):.2f}')"
   ]
  },
  {
   "cell_type": "markdown",
   "metadata": {},
   "source": [
    "### Ensemble Methods \n",
    "Meta Learning approach which involves combining multiple base models to get better predictive accuracy.They can be classified into two main categories bootstrap aggregation(bagging) and boosting.\n"
   ]
  },
  {
   "cell_type": "markdown",
   "metadata": {},
   "source": [
    "#### Bootstrap Aggregation\n",
    "Involves training multiple weak classifiers on bootstrapped data sets,i.e. selecting from training data set with replacement,and voting over the weak classifiers for final prediction.A simple example would be that of Random Forest\n"
   ]
  },
  {
   "cell_type": "markdown",
   "metadata": {},
   "source": [
    "##### Random Forest"
   ]
  },
  {
   "cell_type": "markdown",
   "metadata": {},
   "source": [
    "Random Forest is a meta ML algorithm which uses the concept of bagging by training multiple decision trees as weak classifiers over bootstrapped data sets from the training data.This kind of bootstrapping allows the decision trees which are trained to be uncorrelated hence reducing the variance of the model.The final prediction is done using a majority vote among the different decision trees."
   ]
  },
  {
   "cell_type": "code",
   "execution_count": 147,
   "metadata": {},
   "outputs": [],
   "source": [
    "from sklearn.ensemble import RandomForestClassifier"
   ]
  },
  {
   "cell_type": "code",
   "execution_count": 155,
   "metadata": {},
   "outputs": [
    {
     "name": "stdout",
     "output_type": "stream",
     "text": [
      "The classification accuracy, f1-score, precision and recall were 0.97, 0.97, 0.97 and 0.97\n"
     ]
    }
   ],
   "source": [
    "rfc = RandomForestClassifier(n_estimators=100,n_jobs=-1)\n",
    "y_pred = rfc.fit(X_train, y_train).predict(X_test)\n",
    "print(\"The classification accuracy, f1-score, precision and recall were\",f'{accuracy_score(y_test,y_pred):.2f},',f'{f1_score(y_test,y_pred,average=\"weighted\"):.2f},',f'{precision_score(y_test,y_pred,average=\"weighted\"):.2f}',\"and\",f'{recall_score(y_test,y_pred,average=\"weighted\"):.2f}')"
   ]
  },
  {
   "cell_type": "code",
   "execution_count": null,
   "metadata": {},
   "outputs": [],
   "source": []
  },
  {
   "cell_type": "markdown",
   "metadata": {},
   "source": [
    "#### Boosting\n",
    "Boosting involves training successive models each new model emphasising more on the misclassified samples of the previous one.Unlike in bagging boosting can be done across different base classifiers.Some examples we will consider here are AdaBoost and Xgboost.\n"
   ]
  },
  {
   "cell_type": "markdown",
   "metadata": {},
   "source": [
    "##### AdaBoost"
   ]
  },
  {
   "cell_type": "markdown",
   "metadata": {},
   "source": [
    "AdaBoost is a boosting algorithm that combines several weak classifiers into a single strong classifier. It operates by iteratively training weak classifiers on data and modifying instance weights based on classification errors. A weighted vote of the weak classifiers is used to make the final prediction."
   ]
  },
  {
   "cell_type": "code",
   "execution_count": 149,
   "metadata": {},
   "outputs": [],
   "source": [
    "from sklearn.ensemble import AdaBoostClassifier"
   ]
  },
  {
   "cell_type": "code",
   "execution_count": 150,
   "metadata": {},
   "outputs": [
    {
     "name": "stdout",
     "output_type": "stream",
     "text": [
      "The classification accuracy, f1-score, precision and recall were 0.74, 0.74, 0.74 and 0.74\n"
     ]
    }
   ],
   "source": [
    "ada = AdaBoostClassifier(n_estimators=100,n_jobs=-1)\n",
    "y_pred = ada.fit(X_train, y_train).predict(X_test)\n",
    "print(\"The classification accuracy, f1-score, precision and recall were\",f'{accuracy_score(y_test,y_pred):.2f},',f'{f1_score(y_test,y_pred,average=\"weighted\"):.2f},',f'{precision_score(y_test,y_pred,average=\"weighted\"):.2f}',\"and\",f'{recall_score(y_test,y_pred,average=\"weighted\"):.2f}')"
   ]
  },
  {
   "cell_type": "markdown",
   "metadata": {},
   "source": [
    "##### XgBoost"
   ]
  },
  {
   "cell_type": "markdown",
   "metadata": {},
   "source": [
    "XgBoost or eXtreme Gradient Boost is a software library that implements the Gradient Boosting algorithm with multiple hardware optimizations and regularization."
   ]
  },
  {
   "cell_type": "code",
   "execution_count": 151,
   "metadata": {},
   "outputs": [
    {
     "name": "stdout",
     "output_type": "stream",
     "text": [
      "Requirement already satisfied: xgboost in c:\\users\\pnram\\anaconda3\\envs\\torch_env\\lib\\site-packages (1.6.2)\n",
      "Requirement already satisfied: scipy in c:\\users\\pnram\\anaconda3\\envs\\torch_env\\lib\\site-packages (from xgboost) (1.7.3)\n",
      "Requirement already satisfied: numpy in c:\\users\\pnram\\anaconda3\\envs\\torch_env\\lib\\site-packages (from xgboost) (1.21.6)\n"
     ]
    }
   ],
   "source": [
    "!pip install xgboost\n",
    "from xgboost import XGBClassifier"
   ]
  },
  {
   "cell_type": "code",
   "execution_count": 161,
   "metadata": {},
   "outputs": [
    {
     "name": "stdout",
     "output_type": "stream",
     "text": [
      "The classification accuracy, f1-score, precision and recall were 0.74, 0.74, 0.74 and 0.74\n"
     ]
    }
   ],
   "source": [
    "xgc = XGBClassifier(n_estimators=100,n_jobs=-1)\n",
    "y_pred = ada.fit(X_train, y_train).predict(X_test)\n",
    "print(\"The classification accuracy, f1-score, precision and recall were\",f'{accuracy_score(y_test,y_pred):.2f},',f'{f1_score(y_test,y_pred,average=\"weighted\"):.2f},',f'{precision_score(y_test,y_pred,average=\"weighted\"):.2f}',\"and\",f'{recall_score(y_test,y_pred,average=\"weighted\"):.2f}')"
   ]
  },
  {
   "cell_type": "markdown",
   "metadata": {},
   "source": [
    "#### Artificial Neural Networks\n"
   ]
  },
  {
   "cell_type": "markdown",
   "metadata": {},
   "source": [
    "\n",
    "Artificial neural networks are combination of non linear logistic units that are capable of outperforming classical machine learning algorithms due to their ability to learn complex feature relationships in the dataset."
   ]
  },
  {
   "cell_type": "code",
   "execution_count": 153,
   "metadata": {},
   "outputs": [],
   "source": [
    "from sklearn.neural_network import MLPClassifier"
   ]
  },
  {
   "cell_type": "code",
   "execution_count": 154,
   "metadata": {},
   "outputs": [
    {
     "name": "stdout",
     "output_type": "stream",
     "text": [
      "The classification accuracy, f1-score, precision and recall were 0.96, 0.96, 0.96 and 0.96\n"
     ]
    }
   ],
   "source": [
    "# Input 784 - hidden layer 100 -  Output 10\n",
    "clf = MLPClassifier(hidden_layer_sizes=(100,)random_state=1, max_iter=300)\n",
    "y_pred = clf.fit(X_train, y_train).predict(X_test)\n",
    "print(\"The classification accuracy, f1-score, precision and recall were\",f'{accuracy_score(y_test,y_pred):.2f},',f'{f1_score(y_test,y_pred,average=\"weighted\"):.2f},',f'{precision_score(y_test,y_pred,average=\"weighted\"):.2f}',\"and\",f'{recall_score(y_test,y_pred,average=\"weighted\"):.2f}')"
   ]
  },
  {
   "cell_type": "code",
   "execution_count": null,
   "metadata": {},
   "outputs": [],
   "source": []
  },
  {
   "cell_type": "code",
   "execution_count": null,
   "metadata": {},
   "outputs": [],
   "source": []
  }
 ],
 "metadata": {
  "kernelspec": {
   "display_name": "torch_env",
   "language": "python",
   "name": "python3"
  },
  "language_info": {
   "codemirror_mode": {
    "name": "ipython",
    "version": 3
   },
   "file_extension": ".py",
   "mimetype": "text/x-python",
   "name": "python",
   "nbconvert_exporter": "python",
   "pygments_lexer": "ipython3",
   "version": "3.7.13"
  },
  "orig_nbformat": 4
 },
 "nbformat": 4,
 "nbformat_minor": 2
}
