{
  "nbformat": 4,
  "nbformat_minor": 0,
  "metadata": {
    "colab": {
      "provenance": []
    },
    "kernelspec": {
      "name": "python3",
      "display_name": "Python 3"
    },
    "language_info": {
      "name": "python"
    }
  },
  "cells": [
    {
      "cell_type": "markdown",
      "source": [
        "# Classification"
      ],
      "metadata": {
        "id": "rk2buJPNoCB2"
      }
    },
    {
      "cell_type": "markdown",
      "source": [
        "Classification is a task where the goal is to assign input data into predefined categories or classes. The primary objective is to learn a mapping from input features to a set of discrete output labels.\n",
        "\n",
        "In the context of classification, the model is trained on a labeled dataset, where each data point has an associated label indicating its class.\n",
        "\n",
        "The model learns patterns and relationships within the data to make predictions on new, unseen instances and assign them to one of the predefined classes.\n",
        "\n",
        "There are two main types of classification:\n",
        "\n",
        "1. **Binary Classification:** In binary classification, the task involves distinguishing between two classes, typically labeled as positive and negative. The model predicts whether a given input belongs to one class or the other.\n",
        "\n",
        "2. **Multiclass Classification:** Multiclass classification deals with scenarios where there are more than two distinct classes. The model is trained to categorize input data into one of several possible classes.\n",
        "\n",
        "Common algorithms used for classification tasks include logistic regression, decision trees, random forests, support vector machines, and neural networks.\n",
        "\n",
        "The performance of a classification model is often assessed using metrics such as accuracy, precision, recall, and F1 score."
      ],
      "metadata": {
        "id": "R0arS5ZPBBB4"
      }
    },
    {
      "cell_type": "markdown",
      "source": [
        "# MNIST Dataset"
      ],
      "metadata": {
        "id": "vhBDw5wLn0Ev"
      }
    },
    {
      "cell_type": "markdown",
      "source": [
        "The MNIST dataset is a widely used dataset in the field of machine learning and computer vision. It consists of a collection of 28x28 pixel grayscale images of handwritten digits (0 through 9). The goal of the MNIST classification problem is to develop a machine learning model that can accurately identify the digit (0 through 9) represented by each image.\n",
        "\n",
        "Here are key points about the MNIST classification problem:\n",
        "\n",
        "1. **Image Size:** Each image in the MNIST dataset is a 28x28 pixel grayscale image, meaning there is only one channel (no color). The pixel values range from 0 to 255, representing the intensity of the pixel.\n",
        "\n",
        "2. **Classes:** The dataset is divided into 10 classes, one for each digit (0 through 9). The task is to classify each image into the correct digit class.\n",
        "\n",
        " It has become a standard dataset for testing and comparing the performance of various machine learning algorithms and architectures.\n",
        "\n",
        " Many introductory tutorials and courses in machine learning use MNIST as a starting point for hands-on practice."
      ],
      "metadata": {
        "id": "l5FyPnx66ogo"
      }
    },
    {
      "cell_type": "code",
      "source": [
        "import torch\n",
        "import torch.nn as nn\n",
        "import torch.optim as optim\n",
        "import torchvision\n",
        "import torchvision.transforms as transforms\n",
        "from torch.utils.data import DataLoader\n",
        "from tqdm import tqdm"
      ],
      "metadata": {
        "id": "FJSBzabMw2LP"
      },
      "execution_count": null,
      "outputs": []
    },
    {
      "cell_type": "markdown",
      "source": [
        "# Defining the CNN model"
      ],
      "metadata": {
        "id": "bfxZGFAkvUOA"
      }
    },
    {
      "cell_type": "code",
      "source": [
        "# Set random seed for reproducibility\n",
        "#torch.manual_seed(42)\n",
        "\n",
        "# Define the CNN model\n",
        "class CNN(nn.Module):\n",
        "    def __init__(self):\n",
        "        super(CNN, self).__init__()\n",
        "        self.conv1 = nn.Conv2d(1, 32, kernel_size=3, padding=1)\n",
        "        self.relu1 = nn.ReLU()\n",
        "        self.conv2 = nn.Conv2d(32, 64, kernel_size=3, padding=1)\n",
        "        self.relu2 = nn.ReLU()\n",
        "        self.pool = nn.MaxPool2d(2, 2)\n",
        "        self.fc1 = nn.Linear(64 * 7 * 7, 128)\n",
        "        self.relu3 = nn.ReLU()\n",
        "        self.fc2 = nn.Linear(128, 10)\n",
        "\n",
        "    def forward(self, x):\n",
        "        print('input: (x)',x.shape)\n",
        "\n",
        "        x = self.conv1(x)\n",
        "        print('conv1(x)',x.shape)\n",
        "\n",
        "        x = self.relu1(x)\n",
        "        print('relu1(x)',x.shape)\n",
        "\n",
        "        x = self.pool(x)\n",
        "        print('pool1(x)',x.shape)\n",
        "\n",
        "        x = self.conv2(x)\n",
        "        print('conv2(x)',x.shape)\n",
        "\n",
        "        x = self.relu2(x)\n",
        "        print('relu2(x)',x.shape)\n",
        "\n",
        "        x = self.pool(x)\n",
        "        print('pool(x)',x.shape)\n",
        "\n",
        "        x = x.view(-1, 64 * 7 * 7)\n",
        "        print('reshape(x) into single dimension vector',x.shape)\n",
        "\n",
        "        x = self.fc1(x)\n",
        "        print('fc1',x.shape)\n",
        "\n",
        "        x = self.relu3(x)\n",
        "        print('relu3',x.shape)\n",
        "\n",
        "        x = self.fc2(x)\n",
        "        print('fc2',x.shape)\n",
        "\n",
        "        return x"
      ],
      "metadata": {
        "id": "jdrgj53zw55o"
      },
      "execution_count": null,
      "outputs": []
    },
    {
      "cell_type": "markdown",
      "source": [
        "Defining a Convolutional Neural Network (CNN) programmatically involves specifying the architecture of the network using a deep learning framework like PyTorch. Here is an example of how to define a simple CNN for image classification using PyTorch:\n",
        "\n",
        "In this example:\n",
        "\n",
        "- The `SimpleCNN` class inherits from `nn.Module`, the base class for all PyTorch neural network modules.\n",
        "- The `__init__` method defines the layers of the CNN, including convolutional layers, activation functions (ReLU), max-pooling layers, and fully connected layers.\n",
        "- The `forward` method specifies the forward pass of the network, defining how input data flows through the layers.\n",
        "\n",
        "This is a basic example, and the architecture can be customized based on the specific requirements of your image classification task. You can add more convolutional layers, adjust the number of filters, modify kernel sizes, and tailor the network architecture to suit the complexity of your dataset."
      ],
      "metadata": {
        "id": "hXwF67WJqYCg"
      }
    },
    {
      "cell_type": "code",
      "source": [
        "# Set device (GPU if available, otherwise CPU)\n",
        "device = torch.device(\"cuda\" if torch.cuda.is_available() else \"cpu\")\n",
        "print('device:',device)"
      ],
      "metadata": {
        "colab": {
          "base_uri": "https://localhost:8080/"
        },
        "id": "NaQ0Hgr9w8Rn",
        "outputId": "ed76cb5f-24a1-490b-c610-836b1351666b"
      },
      "execution_count": null,
      "outputs": [
        {
          "output_type": "stream",
          "name": "stdout",
          "text": [
            "device: cpu\n"
          ]
        }
      ]
    },
    {
      "cell_type": "code",
      "source": [
        "# Initialize the model\n",
        "model = CNN().to(device)\n",
        "\n",
        "\n",
        "# making sample input\n",
        "temp_input=torch.randn(1,1,28,28)\n",
        "temp_input=temp_input.to(device)\n",
        "print('temp_input.shape',temp_input.shape)\n",
        "\n",
        "# checking the sample output.\n",
        "temp_output=model(temp_input)\n",
        "print('temp_output.shape',temp_output.shape)"
      ],
      "metadata": {
        "colab": {
          "base_uri": "https://localhost:8080/"
        },
        "id": "IDHgnFajnXZs",
        "outputId": "cd6d6059-ddc1-41c0-8fce-219c9c471c42"
      },
      "execution_count": null,
      "outputs": [
        {
          "output_type": "stream",
          "name": "stdout",
          "text": [
            "temp_input.shape torch.Size([1, 1, 28, 28])\n",
            "input: (x) torch.Size([1, 1, 28, 28])\n",
            "conv1(x) torch.Size([1, 32, 28, 28])\n",
            "relu1(x) torch.Size([1, 32, 28, 28])\n",
            "pool1(x) torch.Size([1, 32, 14, 14])\n",
            "conv2(x) torch.Size([1, 64, 14, 14])\n",
            "relu2(x) torch.Size([1, 64, 14, 14])\n",
            "pool(x) torch.Size([1, 64, 7, 7])\n",
            "reshape(x) into single dimension vector torch.Size([1, 3136])\n",
            "fc1 torch.Size([1, 128])\n",
            "relu3 torch.Size([1, 128])\n",
            "fc2 torch.Size([1, 10])\n",
            "temp_output.shape torch.Size([1, 10])\n"
          ]
        }
      ]
    },
    {
      "cell_type": "markdown",
      "source": [
        "It looks like you've defined a simple CNN model in PyTorch and added print statements in the `forward` method to display the shape of the tensor at different stages of the network. This can be very helpful for understanding the size changes in the feature maps as they pass through each layer.\n",
        "\n",
        "Here's a brief explanation of each step:\n",
        "\n",
        "1. **Input:** The input tensor `x` has the shape `(batch_size, 1, 28, 28)` where `1` represents the number of input channels (grayscale).\n",
        "\n",
        "2. **Convolution 1 (`conv1`):** Applies the first convolutional layer with 32 filters and a kernel size of 3x3.\n",
        "\n",
        "  The output shape is `(batch_size, 32, 28, 28)`.\n",
        "\n",
        "3. **ReLU Activation 1 (`relu1`):** Applies the rectified linear unit activation function element-wise. The output shape remains the same.\n",
        "\n",
        "4. **Max Pooling 1 (`pool1`):** Applies max pooling with a kernel size of 2x2 and a stride of 2.\n",
        "\n",
        "  The output shape is `(batch_size, 32, 14, 14)`.\n",
        "\n",
        "5. **Convolution 2 (`conv2`):** Applies the second convolutional layer with 64 filters and a kernel size of 3x3.\n",
        "\n",
        "  The output shape is `(batch_size, 64, 14, 14)`.\n",
        "\n",
        "6. **ReLU Activation 2 (`relu2`):** Applies the rectified linear unit activation function element-wise.\n",
        "The output shape remains the same.\n",
        "\n",
        "7. **Max Pooling 2 (`pool2`):** Applies max pooling with a kernel size of 2x2 and a stride of 2.\n",
        "\n",
        "  The output shape is `(batch_size, 64, 7, 7)`.\n",
        "\n",
        "8. **Flatten (`view`):** Reshapes the tensor into a single-dimensional vector.\n",
        "\n",
        "  The output shape is `(batch_size, 64 * 7 * 7)`.\n",
        "\n",
        "9. **Fully Connected 1 (`fc1`):** Applies the first fully connected layer with 128 neurons.\n",
        "\n",
        "  The output shape is `(batch_size, 128)`.\n",
        "\n",
        "10. **ReLU Activation 3 (`relu3`):** Applies the rectified linear unit activation function element-wise.\n",
        "\n",
        "  The output shape remains the same.\n",
        "\n",
        "11. **Fully Connected 2 (`fc2`):** Applies the final fully connected layer with 10 neurons (assuming 10 classes for classification).\n",
        "\n",
        "  The output shape is `(batch_size, 10)`.\n",
        "\n",
        "Each print statement in the `forward` method indicates the shape of the tensor at that specific stage, providing insights into how the data transforms through the network."
      ],
      "metadata": {
        "id": "uU-wgMSmqtgC"
      }
    },
    {
      "cell_type": "code",
      "source": [
        "# Load MNIST dataset and apply transformations\n",
        "transform = transforms.Compose([transforms.ToTensor(), transforms.Normalize((0.5,), (0.5,))])\n",
        "\n",
        "train_dataset = torchvision.datasets.MNIST(root='./data', train=True, download=True, transform=transform)\n",
        "test_dataset = torchvision.datasets.MNIST(root='./data', train=False, download=True, transform=transform)"
      ],
      "metadata": {
        "id": "TNIvxRXcw-IK"
      },
      "execution_count": null,
      "outputs": []
    },
    {
      "cell_type": "markdown",
      "source": [
        "For any training,\n",
        "\n",
        "- The dataset is split into `train_dataset` , `val_dataset` and `test_dataset` .\n",
        "\n",
        "- The `DataLoader` is created for each subset of the dataset (training, validation, and testing).\n",
        "\n",
        "Feel free to adjust the sizes of training, validation, and test datasets."
      ],
      "metadata": {
        "id": "MuSVE67B52XY"
      }
    },
    {
      "cell_type": "code",
      "source": [
        "train_loader = DataLoader(dataset=train_dataset, batch_size=8, shuffle=True)\n",
        "test_loader = DataLoader(dataset=test_dataset, batch_size=8, shuffle=False)"
      ],
      "metadata": {
        "id": "zCNVkPiYyD93"
      },
      "execution_count": null,
      "outputs": []
    },
    {
      "cell_type": "markdown",
      "source": [
        "In these lines of code, you are creating PyTorch `DataLoader` objects for the training and test datasets. `DataLoader` is a PyTorch utility that provides an iterable over a dataset, making it easier to iterate through batches during training or testing. Here's an explanation of each line:\n",
        "\n",
        "1. **Training DataLoader:**\n",
        "\n",
        "   - `train_dataset`: This is the dataset you created for training (presumably containing a subset of the MNIST training images).\n",
        "   - `batch_size=8`: It specifies the number of samples in each batch that the `DataLoader` will provide during each iteration.\n",
        "   - `shuffle=True`: This means that the data will be shuffled randomly at the beginning of each epoch. Shuffling the data helps the model generalize better during training.\n",
        "\n",
        "2. **Test DataLoader:**\n",
        "\n",
        "   - `test_dataset`: This is the dataset you created for testing (presumably containing MNIST test images).\n",
        "   - `batch_size=8`: Similar to the training loader, it specifies the batch size for the test loader.\n",
        "   - `shuffle=False`: In testing, you typically don't want to shuffle the data. This ensures that the order of the test samples remains the same during evaluation.\n",
        "\n",
        "By using these DataLoader objects, you can iterate through the training and test datasets in batches, which is beneficial for both memory efficiency and training stability. The specified batch size influences the number of samples processed in each forward and backward pass during training or testing."
      ],
      "metadata": {
        "id": "DAUmglNkrmqi"
      }
    },
    {
      "cell_type": "code",
      "source": [
        "print('dataset details:')\n",
        "print('number of images in training dataset',len(train_dataset))\n",
        "print('number of images in testing dataset',len(test_dataset))\n",
        "\n",
        "print('number of training batches',len(train_loader))\n",
        "print('number of testing batches',len(test_loader))"
      ],
      "metadata": {
        "colab": {
          "base_uri": "https://localhost:8080/"
        },
        "id": "a-snfiNdxc05",
        "outputId": "d505f112-dc86-403f-d6a1-b0bafe4c8985"
      },
      "execution_count": null,
      "outputs": [
        {
          "output_type": "stream",
          "name": "stdout",
          "text": [
            "dataset details:\n",
            "number of images in training dataset 60000\n",
            "number of images in testing dataset 10000\n",
            "number of training batches 7500\n",
            "number of testing batches 1250\n"
          ]
        }
      ]
    },
    {
      "cell_type": "markdown",
      "source": [
        "- Due to computational constraints, we are partitioning the dataset and utilizing only a few of the images for the training process.\n",
        "- The dataset can be split into subdatasets using the `random_split` function. The sizes of the training, validation, and test datasets are specified (`train_size`, `val_size`, `test_size`)."
      ],
      "metadata": {
        "id": "Hd8yO4pU8_M9"
      }
    },
    {
      "cell_type": "code",
      "source": [
        "from torch.utils.data import random_split, DataLoader\n",
        "\n",
        "# Define transformation for the dataset (convert images to PyTorch tensors)\n",
        "transform = transforms.Compose([transforms.ToTensor(), transforms.Normalize((0.5,), (0.5,))])\n",
        "\n",
        "# Load MNIST train dataset\n",
        "full_train_dataset = torchvision.datasets.MNIST(root='./data', train=True, download=True, transform=transform)\n",
        "print('number of trainig images from full_train_dataset:',len(full_train_dataset))\n",
        "\n",
        "# Split the training dataset into training and validation sets\n",
        "train_size = 10000  # Number of images for training\n",
        "val_size = 1000    # Number of images for validation\n",
        "test_size=1000\n",
        "remaining_size=len(full_train_dataset)-(train_size+val_size+test_size)\n",
        "\n",
        "train_dataset, val_dataset,test_dataset,remaining_dataset = random_split(full_train_dataset, [train_size, val_size,test_size,remaining_size])\n",
        "print('Split of data :')\n",
        "print('training :',len(train_dataset ))\n",
        "print('validation :',len(val_dataset))\n",
        "print('testing :',len(test_dataset))\n",
        "print('no of images which are not using is',len(remaining_dataset))\n",
        "\n",
        "# Create DataLoader for training, validation, and testing\n",
        "train_loader = DataLoader(dataset=train_dataset, batch_size=8, shuffle=True)\n",
        "val_loader = DataLoader(dataset=val_dataset, batch_size=8, shuffle=False)\n",
        "test_loader = DataLoader(dataset=test_dataset, batch_size=1, shuffle=False)\n"
      ],
      "metadata": {
        "colab": {
          "base_uri": "https://localhost:8080/"
        },
        "id": "gzIS8bJR0MRO",
        "outputId": "4562a637-48f2-461c-a7e0-9e8fa6ffed54"
      },
      "execution_count": null,
      "outputs": [
        {
          "output_type": "stream",
          "name": "stdout",
          "text": [
            "number of trainig images from full_train_dataset: 60000\n",
            "Split of data :\n",
            "training : 10000\n",
            "validation : 1000\n",
            "testing : 1000\n",
            "no of images which are not using is 48000\n"
          ]
        }
      ]
    },
    {
      "cell_type": "markdown",
      "source": [
        "   This uses `random_split` to split the full training dataset into training, validation, and test sets based on the specified sizes. The remaining images not used in training, validation, or testing are stored in `remaining_dataset`."
      ],
      "metadata": {
        "id": "k0ItCIlKsU2c"
      }
    },
    {
      "cell_type": "code",
      "source": [
        "import matplotlib.pyplot as plt\n",
        "\n",
        "# Function to show images\n",
        "def show_images(images, labels):\n",
        "    plt.figure(figsize=(10, 3))\n",
        "    for i in range(len(images)):\n",
        "        plt.subplot(1, len(images), i + 1)\n",
        "        plt.title(f\"Label: {labels[i].item()}\")\n",
        "        plt.imshow(images[i][0], cmap=\"gray\")\n",
        "        plt.axis('off')\n",
        "    plt.show()\n",
        "\n",
        "# Display a batch of images\n",
        "for images, labels in train_loader:\n",
        "    show_images(images, labels)\n",
        "    print('images.shape',images.shape)\n",
        "    print('labels.shape',labels.shape)\n",
        "\n",
        "    break  # Show only the first batch"
      ],
      "metadata": {
        "colab": {
          "base_uri": "https://localhost:8080/",
          "height": 177
        },
        "id": "BVZsqv94x-Yz",
        "outputId": "cd43ca43-fe11-4100-9540-21e8a7a19a3e"
      },
      "execution_count": null,
      "outputs": [
        {
          "output_type": "display_data",
          "data": {
            "text/plain": [
              "<Figure size 1000x300 with 8 Axes>"
            ],
            "image/png": "[encoded data removed]"
          },
          "metadata": {}
        },
        {
          "output_type": "stream",
          "name": "stdout",
          "text": [
            "images.shape torch.Size([8, 1, 28, 28])\n",
            "labels.shape torch.Size([8])\n"
          ]
        }
      ]
    },
    {
      "cell_type": "markdown",
      "source": [
        "This code is helpful for visualizing a batch of images from the training dataset along with their corresponding labels.\n",
        "\n",
        "It's a useful practice to inspect the data during the development process to ensure that it is loaded and preprocessed correctly."
      ],
      "metadata": {
        "id": "36lpx1Sov2hR"
      }
    },
    {
      "cell_type": "code",
      "source": [
        "# Initialize the  loss function, and optimizer\n",
        "criterion = nn.CrossEntropyLoss()"
      ],
      "metadata": {
        "id": "qmLHRPED1pNK"
      },
      "execution_count": null,
      "outputs": []
    },
    {
      "cell_type": "markdown",
      "source": [
        "   The `nn.CrossEntropyLoss()` is a commonly used loss function for classification problems. It combines the softmax activation function and the negative log-likelihood loss. It is suitable for multi-class classification tasks, such as the MNIST digit classification problem where each image can belong to one of the ten classes (digits 0 through 9). The CrossEntropyLoss automatically applies the softmax function to the model's output and computes the log-likelihood loss."
      ],
      "metadata": {
        "id": "iEpeJT6dsoYQ"
      }
    },
    {
      "cell_type": "code",
      "source": [
        "optimizer = optim.Adam(model.parameters(), lr=0.001)"
      ],
      "metadata": {
        "id": "MrW4uQaJsidW"
      },
      "execution_count": null,
      "outputs": []
    },
    {
      "cell_type": "markdown",
      "source": [
        " Here, you are using the Adam optimizer (`optim.Adam`) to update the parameters of your neural network during the training process. The optimizer takes as input the parameters of the model (`model.parameters()`) and the learning rate (`lr=0.001`).\n",
        "\n",
        " The learning rate determines the step size during optimization and is a hyperparameter that needs to be tuned based on the specific problem.\n",
        "\n",
        "   The `Adam` optimizer is an adaptive learning rate optimization algorithm that combines ideas from momentum and RMSprop. It is widely used in deep learning due to its effectiveness in training neural networks."
      ],
      "metadata": {
        "id": "c-Wlzdsss-Wd"
      }
    },
    {
      "cell_type": "markdown",
      "source": [
        "These two components work together during the training loop: the loss function computes the difference between the model's predictions and the actual labels, and the optimizer adjusts the model's parameters based on this loss to improve its performance."
      ],
      "metadata": {
        "id": "1uE5ujE8tNXJ"
      }
    },
    {
      "cell_type": "code",
      "source": [
        "num_epochs = 10"
      ],
      "metadata": {
        "id": "3hG9KUAY4STe"
      },
      "execution_count": null,
      "outputs": []
    },
    {
      "cell_type": "code",
      "execution_count": null,
      "metadata": {
        "colab": {
          "base_uri": "https://localhost:8080/"
        },
        "id": "iMajBw-BwdOx",
        "outputId": "472f46df-96ea-49b3-a70a-10399e54d9db"
      },
      "outputs": [
        {
          "output_type": "stream",
          "name": "stderr",
          "text": [
            "Epoch 1/10, Training: 100%|██████████| 1250/1250 [00:23<00:00, 53.19it/s, loss=0.281]\n"
          ]
        },
        {
          "output_type": "stream",
          "name": "stdout",
          "text": [
            "Epoch 1/10, Loss: 0.2814890363310464\n",
            "Epoch 1/10, Validation Loss: 0.13982510721264407, Validation Accuracy: 96.60%\n"
          ]
        },
        {
          "output_type": "stream",
          "name": "stderr",
          "text": [
            "Epoch 2/10, Training: 100%|██████████| 1250/1250 [00:20<00:00, 62.39it/s, loss=0.0844]\n"
          ]
        },
        {
          "output_type": "stream",
          "name": "stdout",
          "text": [
            "Epoch 2/10, Loss: 0.08442394438626652\n",
            "Epoch 2/10, Validation Loss: 0.09695438801313867, Validation Accuracy: 97.20%\n"
          ]
        },
        {
          "output_type": "stream",
          "name": "stderr",
          "text": [
            "Epoch 3/10, Training: 100%|██████████| 1250/1250 [00:20<00:00, 60.65it/s, loss=0.0593]\n"
          ]
        },
        {
          "output_type": "stream",
          "name": "stdout",
          "text": [
            "Epoch 3/10, Loss: 0.05930589235351799\n",
            "Epoch 3/10, Validation Loss: 0.08601578428864014, Validation Accuracy: 97.80%\n"
          ]
        },
        {
          "output_type": "stream",
          "name": "stderr",
          "text": [
            "Epoch 4/10, Training: 100%|██████████| 1250/1250 [00:20<00:00, 62.15it/s, loss=0.0346]\n"
          ]
        },
        {
          "output_type": "stream",
          "name": "stdout",
          "text": [
            "Epoch 4/10, Loss: 0.03458834332321551\n",
            "Epoch 4/10, Validation Loss: 0.10227034933079267, Validation Accuracy: 97.40%\n"
          ]
        },
        {
          "output_type": "stream",
          "name": "stderr",
          "text": [
            "Epoch 5/10, Training: 100%|██████████| 1250/1250 [00:20<00:00, 60.90it/s, loss=0.0287]\n"
          ]
        },
        {
          "output_type": "stream",
          "name": "stdout",
          "text": [
            "Epoch 5/10, Loss: 0.028706327854806413\n",
            "Epoch 5/10, Validation Loss: 0.06698691723751107, Validation Accuracy: 98.20%\n"
          ]
        },
        {
          "output_type": "stream",
          "name": "stderr",
          "text": [
            "Epoch 6/10, Training: 100%|██████████| 1250/1250 [00:20<00:00, 61.46it/s, loss=0.0261]\n"
          ]
        },
        {
          "output_type": "stream",
          "name": "stdout",
          "text": [
            "Epoch 6/10, Loss: 0.02606139803075955\n",
            "Epoch 6/10, Validation Loss: 0.10457803801731097, Validation Accuracy: 97.30%\n"
          ]
        },
        {
          "output_type": "stream",
          "name": "stderr",
          "text": [
            "Epoch 7/10, Training: 100%|██████████| 1250/1250 [00:20<00:00, 59.66it/s, loss=0.0182]\n"
          ]
        },
        {
          "output_type": "stream",
          "name": "stdout",
          "text": [
            "Epoch 7/10, Loss: 0.018243073367644382\n",
            "Epoch 7/10, Validation Loss: 0.08014949765136589, Validation Accuracy: 98.30%\n"
          ]
        },
        {
          "output_type": "stream",
          "name": "stderr",
          "text": [
            "Epoch 8/10, Training: 100%|██████████| 1250/1250 [00:20<00:00, 62.16it/s, loss=0.0185]\n"
          ]
        },
        {
          "output_type": "stream",
          "name": "stdout",
          "text": [
            "Epoch 8/10, Loss: 0.018528038451832027\n",
            "Epoch 8/10, Validation Loss: 0.09805010378717406, Validation Accuracy: 97.90%\n"
          ]
        },
        {
          "output_type": "stream",
          "name": "stderr",
          "text": [
            "Epoch 9/10, Training: 100%|██████████| 1250/1250 [00:19<00:00, 63.17it/s, loss=0.0167]\n"
          ]
        },
        {
          "output_type": "stream",
          "name": "stdout",
          "text": [
            "Epoch 9/10, Loss: 0.016706978028532476\n",
            "Epoch 9/10, Validation Loss: 0.1583061449809021, Validation Accuracy: 96.80%\n"
          ]
        },
        {
          "output_type": "stream",
          "name": "stderr",
          "text": [
            "Epoch 10/10, Training: 100%|██████████| 1250/1250 [00:20<00:00, 61.76it/s, loss=0.0123]\n"
          ]
        },
        {
          "output_type": "stream",
          "name": "stdout",
          "text": [
            "Epoch 10/10, Loss: 0.012266463171608635\n",
            "Epoch 10/10, Validation Loss: 0.1889284080648763, Validation Accuracy: 96.80%\n"
          ]
        }
      ],
      "source": [
        "# Lists to store training and validation losses\n",
        "train_losses = []\n",
        "val_losses = []\n",
        "\n",
        "\n",
        "# Training loop\n",
        "for epoch in range(num_epochs):\n",
        "    model.train()\n",
        "    running_loss = 0.0\n",
        "\n",
        "\n",
        "    tqdm_train_loader = tqdm(train_loader, desc=f'Epoch {epoch + 1}/{num_epochs}, Training')\n",
        "\n",
        "    for images, labels in tqdm_train_loader:\n",
        "        images, labels = images.to(device), labels.to(device)\n",
        "\n",
        "        optimizer.zero_grad()\n",
        "\n",
        "        # forward pass\n",
        "        outputs = model(images)\n",
        "\n",
        "        # calculating the loss\n",
        "        loss = criterion(outputs, labels)\n",
        "\n",
        "        # performing back-propgation\n",
        "        loss.backward()\n",
        "\n",
        "        # updating the CNN weights based on the gradients which calulcated in the back-propgation\n",
        "        optimizer.step()\n",
        "\n",
        "        running_loss += loss.item()\n",
        "        tqdm_train_loader.set_postfix({'loss': running_loss / len(train_loader)})\n",
        "\n",
        "    # Compute average training loss for the epoch\n",
        "\n",
        "    average_train_loss = running_loss / len(train_loader)\n",
        "    train_losses.append(average_train_loss)\n",
        "\n",
        "    print(f\"Epoch {epoch+1}/{num_epochs}, Loss: {running_loss/len(train_loader)}\")\n",
        "\n",
        "    # Validation loop\n",
        "    model.eval()\n",
        "    val_loss = 0.0\n",
        "    correct_val = 0\n",
        "    total_val = 0\n",
        "\n",
        "    with torch.no_grad():\n",
        "        for val_images, val_labels in val_loader:\n",
        "            val_images, val_labels = val_images.to(device), val_labels.to(device)\n",
        "            val_outputs = model(val_images)\n",
        "            #computes the validation loss\n",
        "            val_loss += criterion(val_outputs, val_labels).item()\n",
        "\n",
        "            #tracks the number of correct predictions for accuracy calculation.\n",
        "            _, val_predicted = torch.max(val_outputs.data, 1)\n",
        "            total_val += val_labels.size(0)\n",
        "            correct_val += (val_predicted == val_labels).sum().item()\n",
        "\n",
        "    average_val_loss = val_loss / len(val_loader)\n",
        "\n",
        "    #The training and validation losses are recorded for further analysis, such as plotting learning curves.\n",
        "    val_losses.append(average_val_loss)\n",
        "\n",
        "    val_accuracy = correct_val / total_val\n",
        "\n",
        "    print(f\"Epoch {epoch+1}/{num_epochs}, Validation Loss: {val_loss/len(val_loader)}, Validation Accuracy: {val_accuracy * 100:.2f}%\")\n",
        "\n"
      ]
    },
    {
      "cell_type": "markdown",
      "source": [
        "# Training loss vs Valiation loss"
      ],
      "metadata": {
        "id": "e56ynrMNtPUr"
      }
    },
    {
      "cell_type": "code",
      "source": [
        "# Plotting training vs. validation loss curve\n",
        "plt.plot(range(1, num_epochs + 1), train_losses, label='Training Loss')\n",
        "plt.plot(range(1, num_epochs + 1), val_losses, label='Validation Loss')\n",
        "plt.xlabel('Epoch')\n",
        "plt.ylabel('Loss')\n",
        "plt.title('Training vs. Validation Loss')\n",
        "plt.legend()\n",
        "plt.show()"
      ],
      "metadata": {
        "colab": {
          "base_uri": "https://localhost:8080/",
          "height": 472
        },
        "id": "-hBcf5kw5Zv4",
        "outputId": "780646a4-b6c0-4036-fefd-0d9d7cde1585"
      },
      "execution_count": null,
      "outputs": [
        {
          "output_type": "display_data",
          "data": {
            "text/plain": [
              "<Figure size 640x480 with 1 Axes>"
            ],
            "image/png": "[encoded data removed]"
          },
          "metadata": {}
        }
      ]
    },
    {
      "cell_type": "code",
      "source": [
        "print(len(train_losses))\n",
        "print(len(val_losses))"
      ],
      "metadata": {
        "colab": {
          "base_uri": "https://localhost:8080/"
        },
        "id": "rXyHdGlP7Nil",
        "outputId": "2433182d-5141-4534-eb9f-4565083a17a6"
      },
      "execution_count": null,
      "outputs": [
        {
          "output_type": "stream",
          "name": "stdout",
          "text": [
            "10\n",
            "10\n"
          ]
        }
      ]
    },
    {
      "cell_type": "code",
      "source": [
        "# Test the model on the test set with progress bar\n",
        "from tqdm import tqdm\n",
        "\n",
        "model.eval()\n",
        "correct_test = 0\n",
        "total_test = 0\n",
        "tqdm_test_loader = tqdm(test_loader, desc='Testing')\n",
        "with torch.no_grad():\n",
        "    for test_images, test_labels in tqdm_test_loader:\n",
        "        test_images, test_labels = test_images.to(device), test_labels.to(device)\n",
        "        test_outputs = model(test_images)\n",
        "        _, test_predicted = torch.max(test_outputs.data, 1)\n",
        "        total_test += test_labels.size(0)\n",
        "        correct_test += (test_predicted == test_labels).sum().item()\n",
        "        tqdm_test_loader.set_postfix({'accuracy': correct_test / total_test})\n",
        "\n",
        "tqdm_test_loader.close()"
      ],
      "metadata": {
        "colab": {
          "base_uri": "https://localhost:8080/"
        },
        "id": "SJlq99Fez98r",
        "outputId": "ac80e39a-b384-48b8-e6d4-6f8fec9e5625"
      },
      "execution_count": null,
      "outputs": [
        {
          "output_type": "stream",
          "name": "stderr",
          "text": [
            "Testing: 100%|██████████| 1000/1000 [00:04<00:00, 242.93it/s, accuracy=0.987]\n"
          ]
        }
      ]
    },
    {
      "cell_type": "code",
      "source": [
        "remaining_dataset_loader = DataLoader(dataset=remaining_dataset , batch_size=1, shuffle=False)\n",
        "\n",
        "\n",
        "from tqdm import tqdm\n",
        "\n",
        "model.eval()\n",
        "correct_test = 0\n",
        "total_test = 0\n",
        "tqdm_test_loader = tqdm(remaining_dataset_loader  ,desc='Testing')\n",
        "with torch.no_grad():\n",
        "    for test_images, test_labels in tqdm_test_loader:\n",
        "        test_images, test_labels = test_images.to(device), test_labels.to(device)\n",
        "        test_outputs = model(test_images)\n",
        "        _, test_predicted = torch.max(test_outputs.data, 1)\n",
        "        total_test += test_labels.size(0)\n",
        "        correct_test += (test_predicted == test_labels).sum().item()\n",
        "        tqdm_test_loader.set_postfix({'accuracy': correct_test / total_test})\n",
        "\n",
        "tqdm_test_loader.close()"
      ],
      "metadata": {
        "colab": {
          "base_uri": "https://localhost:8080/"
        },
        "id": "PlXa3lK_gLaL",
        "outputId": "8afec3e7-8f6e-4d54-a6c6-4836f8cfdea8"
      },
      "execution_count": null,
      "outputs": [
        {
          "output_type": "stream",
          "name": "stderr",
          "text": [
            "Testing: 100%|██████████| 48000/48000 [03:15<00:00, 245.03it/s, accuracy=0.972]\n"
          ]
        }
      ]
    }
  ]
}