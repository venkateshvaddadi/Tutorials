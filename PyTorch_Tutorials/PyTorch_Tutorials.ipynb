{
 "cells": [
  {
   "cell_type": "raw",
   "metadata": {},
   "source": [
    "Torch library, often referred to as PyTorch, is an open-source machine learning framework primarily used for deep learning tasks. \n",
    "\n",
    "It is known for its flexibility and dynamic computation graph, which allows for easy model development and experimentation. \n",
    "\n",
    "PyTorch provides a wide range of tools and modules for building neural networks, conducting research in machine learning, and performing various tensor operations efficiently. \n",
    "\n",
    "It has gained popularity among researchers and practitioners for its user-friendly interface, extensive community support, and seamless integration with hardware accelerators like GPUs, making it a powerful choice for developing and deploying machine learning models."
   ]
  },
  {
   "cell_type": "markdown",
   "metadata": {},
   "source": [
    "<img src='images/Fig_1.png'>"
   ]
  },
  {
   "cell_type": "markdown",
   "metadata": {},
   "source": [
    "# torch.nn"
   ]
  },
  {
   "cell_type": "markdown",
   "metadata": {},
   "source": [
    "The $\\textbf{torch.nn}$ package is a fundamental component of the PyTorch library, and it stands for \"neural networks.\" It provides a vast array of classes and modules to help you build and train neural networks for various machine learning and deep learning tasks. \n",
    "\n",
    "Here are some key components and functionalities of the torch.nn package:\n",
    "\n",
    "\n"
   ]
  },
  {
   "cell_type": "markdown",
   "metadata": {},
   "source": [
    "**Module Parameters**: Neural network parameters (e.g., weights and biases) are automatically registered when created within an nn.Module, allowing for easy access and optimization.\n",
    "\n",
    "**Containers**: You can use container classes like nn.Sequential to create composite neural network models by stacking layers sequentially.\n",
    "\n",
    "**Custom Layers**: You can define custom neural network layers by subclassing nn.Module and implementing the forward pass logic.\n",
    "\n",
    "**Initialization**: torch.nn provides methods for initializing neural network weights, which is crucial for training deep models effectively.\n",
    "\n",
    "**Loss Functions**: It offers a wide range of loss functions such as mean squared error (nn.MSELoss), cross-entropy loss (nn.CrossEntropyLoss), etc., for different types of tasks.\n",
    "\n",
    "**Activation Functions**: PyTorch provides various activation functions like ReLU, sigmoid, and tanh, which can be applied to the output of layers.\n",
    "\n",
    "**Normalization**: Modules like batch normalization (nn.BatchNorm) and layer normalization (nn.LayerNorm) are available for improving the convergence and training stability of neural networks.\n",
    "\n",
    "**Dropout**: PyTorch supports dropout layers (nn.Dropout) to prevent overfitting by randomly dropping out units during training.\n",
    "\n",
    "**RNN and LSTM**: It includes recurrent neural network (RNN) and long short-term memory (LSTM) implementations for sequence modeling tasks.\n",
    "\n",
    "**Data Parallelism**: nn.DataParallel can be used to easily parallelize the training process across multiple GPUs.\n",
    "\n",
    "**Loss Reduction**: You can specify how losses should be aggregated in case of multiple samples (e.g., mean or sum) using the reduction parameter in loss functions.\n",
    "\n"
   ]
  },
  {
   "cell_type": "markdown",
   "metadata": {},
   "source": [
    "# torch.optim"
   ]
  },
  {
   "cell_type": "markdown",
   "metadata": {},
   "source": [
    "The $\\textbf{torch.optim}$ module in PyTorch is a package that provides various optimization algorithms commonly used for training neural networks. \n",
    "\n",
    "It plays a crucial role in the training process by updating the model's parameters to minimize the loss function during the training iterations. \n",
    "\n",
    "\n",
    "Here are some key features and functionalities of the torch.optim module\n",
    "\n",
    "1. Optimization Algorithms\n",
    "\n",
    "2. Parameter Grouping\n",
    "\n",
    "3. Learning Rate Scheduling\n",
    "\n",
    "4. Gradient Clipping\n",
    "\n",
    "5. Optimizer State\n",
    "\n",
    "\n",
    "$\\textbf{torch.optim}$ is designed to work seamlessly with the neural network modules from the $\\textbf{torch.nn}$ package. You can easily connect your model's parameters to the optimizer."
   ]
  },
  {
   "cell_type": "markdown",
   "metadata": {},
   "source": [
    "# torch.autograd"
   ]
  },
  {
   "cell_type": "markdown",
   "metadata": {},
   "source": [
    "**torch.autograd** is a fundamental component of PyTorch that provides automatic differentiation capabilities. It is a crucial feature for training neural networks using techniques like backpropagation, as it automatically computes gradients of tensors with respect to some scalar value (typically a loss function). Here are key points about **torch.autograd**:\n",
    "\n",
    "**Automatic Differentiation**: Automatic differentiation is a technique that allows you to compute gradients (derivatives) of functions efficiently. In deep learning, this is used to compute gradients of the loss function with respect to the model's parameters, which are then used to update the parameters during training.\n",
    "\n",
    "**Dynamic Computational Graphs**: PyTorch uses a dynamic computational graph, which means that the graph is built on-the-fly as operations are performed on tensors. This is in contrast to static computational graphs used in some other deep learning frameworks. Dynamic graphs are more flexible and intuitive, making it easier to work with variable-length sequences and dynamic structures.\n",
    "\n",
    "**Tensors with Gradients**: When you create tensors in PyTorch, you can set the requires_grad attribute to True. This indicates that you want to track the operations performed on that tensor and calculate gradients with respect to it. For example:"
   ]
  },
  {
   "cell_type": "markdown",
   "metadata": {},
   "source": [
    "<img src='images/Fig_2.png'>"
   ]
  },
  {
   "cell_type": "markdown",
   "metadata": {},
   "source": [
    "# Torch Basics"
   ]
  },
  {
   "cell_type": "code",
   "execution_count": 1,
   "metadata": {},
   "outputs": [
    {
     "name": "stderr",
     "output_type": "stream",
     "text": [
      "/home/venkatesh/anaconda3/envs/venkatesh_pytorch_110/lib/python3.9/site-packages/tqdm/auto.py:22: TqdmWarning: IProgress not found. Please update jupyter and ipywidgets. See https://ipywidgets.readthedocs.io/en/stable/user_install.html\n",
      "  from .autonotebook import tqdm as notebook_tqdm\n"
     ]
    },
    {
     "data": {
      "text/plain": [
       "'1.11.0'"
      ]
     },
     "execution_count": 1,
     "metadata": {},
     "output_type": "execute_result"
    }
   ],
   "source": [
    "import torch\n",
    "torch.__version__"
   ]
  },
  {
   "cell_type": "markdown",
   "metadata": {},
   "source": [
    "`torch.tensor` is a function in PyTorch used to create multi-dimensional tensors, which are fundamental data structures in PyTorch for storing and manipulating data. \n",
    "\n",
    "Tensors are similar to NumPy arrays but are designed to work efficiently on GPUs, making them a fundamental building block for deep learning and numerical computing tasks. \n",
    "\n",
    "Here's how you can use `torch.tensor`:\n",
    "\n"
   ]
  },
  {
   "cell_type": "code",
   "execution_count": 349,
   "metadata": {},
   "outputs": [
    {
     "name": "stdout",
     "output_type": "stream",
     "text": [
      "tensor([5.5000, 3.0000])\n"
     ]
    }
   ],
   "source": [
    "# initializing with pre-defined values\n",
    "# Create a tensor from a list or NumPy array\n",
    "\n",
    "x = torch.tensor([5.5, 3]) \n",
    "print(x) "
   ]
  },
  {
   "cell_type": "code",
   "execution_count": 350,
   "metadata": {},
   "outputs": [
    {
     "name": "stdout",
     "output_type": "stream",
     "text": [
      "[[1. 1. 1.]\n",
      " [1. 1. 1.]\n",
      " [1. 1. 1.]] tensor([[1., 1., 1.],\n",
      "        [1., 1., 1.],\n",
      "        [1., 1., 1.]], dtype=torch.float64)\n"
     ]
    }
   ],
   "source": [
    "# Converting from numpy to tensor\n",
    "\n",
    "import numpy as np\n",
    "x_np = np.ones((3,3))\n",
    "x_py = torch.from_numpy(x_np)\n",
    "print(x_np,x_py)"
   ]
  },
  {
   "cell_type": "code",
   "execution_count": 352,
   "metadata": {},
   "outputs": [
    {
     "name": "stdout",
     "output_type": "stream",
     "text": [
      "tensor([[0.2007, 0.5014, 0.3139],\n",
      "        [0.4654, 0.1612, 0.1568],\n",
      "        [0.2083, 0.3289, 0.1054],\n",
      "        [0.9192, 0.4008, 0.9302],\n",
      "        [0.6558, 0.0766, 0.8460]])\n"
     ]
    }
   ],
   "source": [
    "# Create a tensor with random values of a specified shape\n",
    "\n",
    "\n",
    "x = torch.rand(5, 3) \n",
    "print(x)"
   ]
  },
  {
   "cell_type": "code",
   "execution_count": 355,
   "metadata": {},
   "outputs": [
    {
     "name": "stdout",
     "output_type": "stream",
     "text": [
      "tensor([1., 2., 3.])\n"
     ]
    }
   ],
   "source": [
    "# Create a tensor with a specific data type\n",
    "float_tensor = torch.tensor([1.0, 2.0, 3.0], dtype=torch.float32)\n",
    "print(float_tensor)"
   ]
  },
  {
   "cell_type": "code",
   "execution_count": 356,
   "metadata": {},
   "outputs": [
    {
     "name": "stdout",
     "output_type": "stream",
     "text": [
      "tensor([[0, 0, 0],\n",
      "        [0, 0, 0],\n",
      "        [0, 0, 0],\n",
      "        [0, 0, 0],\n",
      "        [0, 0, 0]])\n"
     ]
    }
   ],
   "source": [
    "#Create a tensor with a zeros\n",
    "\n",
    "x = torch.zeros(5, 3, dtype=torch.long) \n",
    "print(x)"
   ]
  },
  {
   "cell_type": "code",
   "execution_count": 365,
   "metadata": {},
   "outputs": [
    {
     "name": "stdout",
     "output_type": "stream",
     "text": [
      "tensor([[0, 0, 0],\n",
      "        [0, 0, 0],\n",
      "        [0, 0, 0],\n",
      "        [0, 0, 0],\n",
      "        [0, 0, 0]])\n",
      "Address:\n",
      "140303351772640\n",
      "140303243364368\n"
     ]
    }
   ],
   "source": [
    "# You can also create tensors from other existing tensors\n",
    "new_tensor = torch.clone(x)\n",
    "print(new_tensor)\n",
    "\n",
    "\n",
    "print('Address:')\n",
    "print(id(x))\n",
    "print(id(new_tensor))"
   ]
  },
  {
   "cell_type": "code",
   "execution_count": 8,
   "metadata": {},
   "outputs": [
    {
     "name": "stdout",
     "output_type": "stream",
     "text": [
      "torch.Size([2])\n"
     ]
    }
   ],
   "source": [
    "print(x.size()) # size of matrix"
   ]
  },
  {
   "cell_type": "code",
   "execution_count": 366,
   "metadata": {},
   "outputs": [
    {
     "name": "stdout",
     "output_type": "stream",
     "text": [
      "torch.Size([5, 3])\n"
     ]
    }
   ],
   "source": [
    "print(x.shape)"
   ]
  },
  {
   "cell_type": "code",
   "execution_count": 367,
   "metadata": {},
   "outputs": [
    {
     "name": "stdout",
     "output_type": "stream",
     "text": [
      "Original Tensor Shape: torch.Size([1, 3, 1, 4, 1])\n",
      "Squeezed Tensor Shape: torch.Size([3, 4])\n"
     ]
    }
   ],
   "source": [
    "# Create a tensor with shape (1, 3, 1, 4, 1)\n",
    "tensor = torch.randn(1, 3, 1, 4, 1)\n",
    "\n",
    "# Squeeze the tensor to remove dimensions with size 1\n",
    "squeezed_tensor = tensor.squeeze()\n",
    "\n",
    "print(\"Original Tensor Shape:\", tensor.shape)\n",
    "print(\"Squeezed Tensor Shape:\", squeezed_tensor.shape)"
   ]
  },
  {
   "cell_type": "code",
   "execution_count": 368,
   "metadata": {},
   "outputs": [
    {
     "name": "stdout",
     "output_type": "stream",
     "text": [
      "Original Tensor Shape: torch.Size([3, 4])\n",
      "Unsqueezed Tensor Shape: torch.Size([3, 1, 4])\n"
     ]
    }
   ],
   "source": [
    "import torch\n",
    "\n",
    "# Create a tensor with shape (3, 4)\n",
    "tensor = torch.randn(3, 4)\n",
    "\n",
    "# Unsqueeze the tensor to add a new dimension at position 1\n",
    "unsqueeze_tensor = tensor.unsqueeze(1)\n",
    "\n",
    "print(\"Original Tensor Shape:\", tensor.shape)\n",
    "print(\"Unsqueezed Tensor Shape:\", unsqueeze_tensor.shape)"
   ]
  },
  {
   "cell_type": "code",
   "execution_count": 9,
   "metadata": {},
   "outputs": [
    {
     "name": "stdout",
     "output_type": "stream",
     "text": [
      "tensor([[1.0367, 1.1256, 1.7606],\n",
      "        [1.2612, 1.6099, 1.0621],\n",
      "        [1.3935, 1.9878, 1.9843],\n",
      "        [1.0487, 1.3814, 1.2449],\n",
      "        [1.9552, 1.4317, 1.5542]])\n",
      "tensor([[1.0367, 1.1256, 1.7606],\n",
      "        [1.2612, 1.6099, 1.0621],\n",
      "        [1.3935, 1.9878, 1.9843],\n",
      "        [1.0487, 1.3814, 1.2449],\n",
      "        [1.9552, 1.4317, 1.5542]])\n",
      "tensor([[1.0367, 1.1256, 1.7606],\n",
      "        [1.2612, 1.6099, 1.0621],\n",
      "        [1.3935, 1.9878, 1.9843],\n",
      "        [1.0487, 1.3814, 1.2449],\n",
      "        [1.9552, 1.4317, 1.5542]])\n",
      "tensor([[1.0367, 1.1256, 1.7606],\n",
      "        [1.2612, 1.6099, 1.0621],\n",
      "        [1.3935, 1.9878, 1.9843],\n",
      "        [1.0487, 1.3814, 1.2449],\n",
      "        [1.9552, 1.4317, 1.5542]])\n"
     ]
    }
   ],
   "source": [
    "# Different syntaxes for operations\n",
    "# Eg: Addition\n",
    "\n",
    "# 1\n",
    "x = torch.ones(5, 3)\n",
    "y = torch.rand(5, 3)\n",
    "print(x + y)\n",
    "\n",
    "# 2\n",
    "print(torch.add(x, y))\n",
    "\n",
    "# 3\n",
    "result = torch.empty(5, 3)\n",
    "torch.add(x, y, out=result)\n",
    "print(result)\n",
    "\n",
    "# 4\n",
    "# adds x to y\n",
    "y.add_(x) # in-place operation\n",
    "print(y)"
   ]
  },
  {
   "cell_type": "code",
   "execution_count": 10,
   "metadata": {},
   "outputs": [
    {
     "name": "stdout",
     "output_type": "stream",
     "text": [
      "tensor([1.1256, 1.6099, 1.9878, 1.3814, 1.4317])\n"
     ]
    }
   ],
   "source": [
    "print(y[:, 1]) # indexing"
   ]
  },
  {
   "cell_type": "code",
   "execution_count": 11,
   "metadata": {},
   "outputs": [
    {
     "name": "stdout",
     "output_type": "stream",
     "text": [
      "torch.Size([4, 4]) torch.Size([16]) torch.Size([2, 8])\n"
     ]
    }
   ],
   "source": [
    "# Resizing/reshaping tensors\n",
    "x = torch.randn(4, 4)\n",
    "y = x.view(16)\n",
    "z = x.view(-1, 8)  # the size -1 is inferred from other dimensions\n",
    "print(x.size(), y.size(), z.size())\n"
   ]
  },
  {
   "cell_type": "code",
   "execution_count": 17,
   "metadata": {},
   "outputs": [
    {
     "name": "stdout",
     "output_type": "stream",
     "text": [
      "True\n"
     ]
    }
   ],
   "source": [
    "# GPU availiability checking\n",
    "print(torch.cuda.is_available())\n"
   ]
  },
  {
   "cell_type": "code",
   "execution_count": 20,
   "metadata": {},
   "outputs": [
    {
     "data": {
      "text/plain": [
       "2"
      ]
     },
     "execution_count": 20,
     "metadata": {},
     "output_type": "execute_result"
    }
   ],
   "source": [
    "torch.cuda.device_count()"
   ]
  },
  {
   "cell_type": "code",
   "execution_count": 19,
   "metadata": {},
   "outputs": [
    {
     "name": "stdout",
     "output_type": "stream",
     "text": [
      "Quadro RTX 8000\n",
      "_CudaDeviceProperties(name='Quadro RTX 8000', major=7, minor=5, total_memory=48601MB, multi_processor_count=72)\n",
      "Quadro RTX 8000\n",
      "_CudaDeviceProperties(name='Quadro RTX 8000', major=7, minor=5, total_memory=48598MB, multi_processor_count=72)\n"
     ]
    }
   ],
   "source": [
    "for i in range(torch.cuda.device_count()):\n",
    "   print(torch.cuda.get_device_properties(i).name)\n",
    "   print(torch.cuda.get_device_properties(i))"
   ]
  },
  {
   "cell_type": "code",
   "execution_count": 15,
   "metadata": {},
   "outputs": [
    {
     "name": "stdout",
     "output_type": "stream",
     "text": [
      "GPU is available!\n",
      "tensor([[ 3.1894,  0.0634,  1.0686,  0.6623],\n",
      "        [ 0.8871,  2.2230,  1.2424,  1.2709],\n",
      "        [ 0.6563,  2.6126,  0.9264,  0.4618],\n",
      "        [ 1.7119, -0.0833,  2.1172,  1.4964]], device='cuda:0')\n",
      "tensor([[ 3.1894,  0.0634,  1.0686,  0.6623],\n",
      "        [ 0.8871,  2.2230,  1.2424,  1.2709],\n",
      "        [ 0.6563,  2.6126,  0.9264,  0.4618],\n",
      "        [ 1.7119, -0.0833,  2.1172,  1.4964]], dtype=torch.float64)\n"
     ]
    }
   ],
   "source": [
    "# CUDA tensor\n",
    "if torch.cuda.is_available():\n",
    "    print('GPU is available!')\n",
    "    device = torch.device(\"cuda\")          # a CUDA device object\n",
    "    y = torch.ones_like(x, device=device)  # directly create a tensor on GPU\n",
    "    x = x.to(device)                       # or just use strings ``.to(\"cuda\")``\n",
    "    z = x + y\n",
    "    print(z)\n",
    "    z=z.to(\"cpu\", torch.double) # ``.to`` can also change dtype together!\n",
    "    print(z)      "
   ]
  },
  {
   "cell_type": "code",
   "execution_count": 22,
   "metadata": {},
   "outputs": [
    {
     "name": "stdout",
     "output_type": "stream",
     "text": [
      "GPU is available!\n",
      "tensor([[1., 1., 1., 1.],\n",
      "        [1., 1., 1., 1.],\n",
      "        [1., 1., 1., 1.],\n",
      "        [1., 1., 1., 1.]], device='cuda:1')\n"
     ]
    }
   ],
   "source": [
    "# CUDA tensor\n",
    "if torch.cuda.is_available():\n",
    "    print('GPU is available!')\n",
    "    device = torch.device(\"cuda:1\")          # a CUDA device object\n",
    "    y = torch.ones_like(x, device=device)  # directly create a tensor on GPU\n",
    "    print(y)"
   ]
  },
  {
   "cell_type": "markdown",
   "metadata": {},
   "source": [
    "# statistical operations"
   ]
  },
  {
   "cell_type": "markdown",
   "metadata": {},
   "source": [
    "\n",
    "PyTorch provides a variety of statistical operations for tensors, allowing you to compute various statistics such as mean, standard deviation, variance, minimum, maximum, and more. Here are some commonly used statistical operations in PyTorch:"
   ]
  },
  {
   "cell_type": "code",
   "execution_count": 374,
   "metadata": {},
   "outputs": [
    {
     "name": "stdout",
     "output_type": "stream",
     "text": [
      "tensor(-0.2100)\n",
      "tensor([-0.2162,  0.4667, -0.5900, -0.5003])\n"
     ]
    }
   ],
   "source": [
    "tensor = torch.randn(3, 4)\n",
    "\n",
    "# Mean of all elements\n",
    "mean = torch.mean(tensor)  \n",
    "\n",
    "# Mean along dimension 0\n",
    "mean_along_dim = torch.mean(tensor, dim=0)  \n",
    "\n",
    "print(mean)\n",
    "print(mean_along_dim)"
   ]
  },
  {
   "cell_type": "code",
   "execution_count": 376,
   "metadata": {},
   "outputs": [
    {
     "name": "stdout",
     "output_type": "stream",
     "text": [
      "tensor(0.3472)\n",
      "tensor([0.5351, 0.1601, 0.1210, 0.0635])\n"
     ]
    }
   ],
   "source": [
    "# Variance of all elements\n",
    "variance = torch.var(tensor)  \n",
    "\n",
    "# Variance along dimension 0\n",
    "variance_along_dim = torch.var(tensor, dim=0)  \n",
    "\n",
    "print(variance)\n",
    "print(variance_along_dim)"
   ]
  },
  {
   "cell_type": "code",
   "execution_count": 377,
   "metadata": {},
   "outputs": [
    {
     "name": "stdout",
     "output_type": "stream",
     "text": [
      "tensor(0.5892)\n",
      "tensor([0.5607, 0.7858, 0.4790])\n"
     ]
    }
   ],
   "source": [
    "# Standard deviation of all elements\n",
    "std = torch.std(tensor)  \n",
    "\n",
    "# Standard deviation along dimension 1\n",
    "std_along_dim = torch.std(tensor, dim=1)  \n",
    "\n",
    "print(std)\n",
    "print(std_along_dim)"
   ]
  },
  {
   "cell_type": "markdown",
   "metadata": {},
   "source": [
    "# Autograd: Automatic Differentiation"
   ]
  },
  {
   "cell_type": "markdown",
   "metadata": {},
   "source": [
    "$\\textbf{torch.autograd}$ is a key component of PyTorch that enables automatic differentiation, allowing you to compute gradients of tensors with respect to other tensors. \n",
    "\n",
    "This is crucial for training neural networks using gradient-based optimization algorithms like stochastic gradient descent (SGD). Here's a simple example to demonstrate how torch.autograd works:"
   ]
  },
  {
   "cell_type": "markdown",
   "metadata": {},
   "source": [
    "Consider the following expression for the demo:\n",
    "\n",
    "$z=(x+y)$\n",
    "\n",
    "$f=z^2+t^4$\n",
    "\n",
    "$\\frac{\\partial f}{\\partial x}=2(x+y)$\n",
    "   \n",
    "\n",
    "$\\frac{\\partial f}{\\partial y}=2(x+y)$\n",
    "   \n",
    "\n",
    "\n",
    "$\\frac{\\partial f}{\\partial t}=4t^3$\n",
    "\n",
    "\n"
   ]
  },
  {
   "cell_type": "code",
   "execution_count": 345,
   "metadata": {},
   "outputs": [
    {
     "name": "stdout",
     "output_type": "stream",
     "text": [
      "Result: tensor(106., grad_fn=<AddBackward0>)\n",
      "Gradient with respect to x: tensor(10.)\n",
      "Gradient with respect to y: tensor(10.)\n",
      "Gradient with respect to t: tensor(108.)\n"
     ]
    }
   ],
   "source": [
    "import torch\n",
    "\n",
    "# Create two tensors with requires_grad=True to track operations for gradient computation\n",
    "x = torch.tensor(2.0, requires_grad=True)\n",
    "y = torch.tensor(3.0, requires_grad=True)\n",
    "t = torch.tensor(3.0, requires_grad=True)\n",
    "\n",
    "# Define a simple computation using these tensors\n",
    "z = x + y\n",
    "f = z * z+ t**4\n",
    "\n",
    "# Let's compute gradients with respect to x and y\n",
    "f.backward()\n",
    "\n",
    "# Gradients are computed and stored in the .grad attribute of the tensors\n",
    "gradient_x = x.grad\n",
    "gradient_y = y.grad\n",
    "gradient_t = t.grad\n",
    "\n",
    "print(\"Result:\", f)\n",
    "print(\"Gradient with respect to x:\", gradient_x)\n",
    "print(\"Gradient with respect to y:\", gradient_y)\n",
    "print(\"Gradient with respect to t:\", gradient_t)"
   ]
  },
  {
   "cell_type": "code",
   "execution_count": 346,
   "metadata": {},
   "outputs": [
    {
     "data": {
      "image/svg+xml": [
       "<?xml version=\"1.0\" encoding=\"UTF-8\" standalone=\"no\"?>\n",
       "<!DOCTYPE svg PUBLIC \"-//W3C//DTD SVG 1.1//EN\"\n",
       " \"http://www.w3.org/Graphics/SVG/1.1/DTD/svg11.dtd\">\n",
       "<!-- Generated by graphviz version 2.40.1 (20161225.0304)\n",
       " -->\n",
       "<!-- Title: %3 Pages: 1 -->\n",
       "<svg width=\"332pt\" height=\"338pt\"\n",
       " viewBox=\"0.00 0.00 332.00 338.00\" xmlns=\"http://www.w3.org/2000/svg\" xmlns:xlink=\"http://www.w3.org/1999/xlink\">\n",
       "<g id=\"graph0\" class=\"graph\" transform=\"scale(1 1) rotate(0) translate(4 334)\">\n",
       "<title>%3</title>\n",
       "<polygon fill=\"#ffffff\" stroke=\"transparent\" points=\"-4,4 -4,-334 328,-334 328,4 -4,4\"/>\n",
       "<!-- 140303351716016 -->\n",
       "<g id=\"node1\" class=\"node\">\n",
       "<title>140303351716016</title>\n",
       "<polygon fill=\"#caff70\" stroke=\"#000000\" points=\"240.5,-31 186.5,-31 186.5,0 240.5,0 240.5,-31\"/>\n",
       "<text text-anchor=\"middle\" x=\"213.5\" y=\"-7\" font-family=\"monospace\" font-size=\"10.00\" fill=\"#000000\"> ()</text>\n",
       "</g>\n",
       "<!-- 140303238858016 -->\n",
       "<g id=\"node2\" class=\"node\">\n",
       "<title>140303238858016</title>\n",
       "<polygon fill=\"#d3d3d3\" stroke=\"#000000\" points=\"258,-86 169,-86 169,-67 258,-67 258,-86\"/>\n",
       "<text text-anchor=\"middle\" x=\"213.5\" y=\"-74\" font-family=\"monospace\" font-size=\"10.00\" fill=\"#000000\">AddBackward0</text>\n",
       "</g>\n",
       "<!-- 140303238858016&#45;&gt;140303351716016 -->\n",
       "<g id=\"edge11\" class=\"edge\">\n",
       "<title>140303238858016&#45;&gt;140303351716016</title>\n",
       "<path fill=\"none\" stroke=\"#000000\" d=\"M213.5,-66.9688C213.5,-60.1289 213.5,-50.5621 213.5,-41.5298\"/>\n",
       "<polygon fill=\"#000000\" stroke=\"#000000\" points=\"217.0001,-41.3678 213.5,-31.3678 210.0001,-41.3678 217.0001,-41.3678\"/>\n",
       "</g>\n",
       "<!-- 140303238859744 -->\n",
       "<g id=\"node3\" class=\"node\">\n",
       "<title>140303238859744</title>\n",
       "<polygon fill=\"#d3d3d3\" stroke=\"#000000\" points=\"205,-141 116,-141 116,-122 205,-122 205,-141\"/>\n",
       "<text text-anchor=\"middle\" x=\"160.5\" y=\"-129\" font-family=\"monospace\" font-size=\"10.00\" fill=\"#000000\">MulBackward0</text>\n",
       "</g>\n",
       "<!-- 140303238859744&#45;&gt;140303238858016 -->\n",
       "<g id=\"edge1\" class=\"edge\">\n",
       "<title>140303238859744&#45;&gt;140303238858016</title>\n",
       "<path fill=\"none\" stroke=\"#000000\" d=\"M169.7319,-121.9197C177.2391,-114.1293 188.021,-102.9405 197.0049,-93.6176\"/>\n",
       "<polygon fill=\"#000000\" stroke=\"#000000\" points=\"199.5983,-95.9703 204.017,-86.3408 194.5578,-91.113 199.5983,-95.9703\"/>\n",
       "</g>\n",
       "<!-- 140303238859648 -->\n",
       "<g id=\"node4\" class=\"node\">\n",
       "<title>140303238859648</title>\n",
       "<polygon fill=\"#d3d3d3\" stroke=\"#000000\" points=\"205,-196 116,-196 116,-177 205,-177 205,-196\"/>\n",
       "<text text-anchor=\"middle\" x=\"160.5\" y=\"-184\" font-family=\"monospace\" font-size=\"10.00\" fill=\"#000000\">AddBackward0</text>\n",
       "</g>\n",
       "<!-- 140303238859648&#45;&gt;140303238859744 -->\n",
       "<g id=\"edge2\" class=\"edge\">\n",
       "<title>140303238859648&#45;&gt;140303238859744</title>\n",
       "<path fill=\"none\" stroke=\"#000000\" d=\"M155.2332,-176.9197C153.8546,-169.9083 153.4371,-160.1442 153.9804,-151.4652\"/>\n",
       "<polygon fill=\"#000000\" stroke=\"#000000\" points=\"157.479,-151.6838 155.1826,-141.3408 150.5278,-150.8583 157.479,-151.6838\"/>\n",
       "</g>\n",
       "<!-- 140303238859648&#45;&gt;140303238859744 -->\n",
       "<g id=\"edge7\" class=\"edge\">\n",
       "<title>140303238859648&#45;&gt;140303238859744</title>\n",
       "<path fill=\"none\" stroke=\"#000000\" d=\"M165.7668,-176.9197C167.1454,-169.9083 167.5629,-160.1442 167.0196,-151.4652\"/>\n",
       "<polygon fill=\"#000000\" stroke=\"#000000\" points=\"170.4722,-150.8583 165.8174,-141.3408 163.521,-151.6838 170.4722,-150.8583\"/>\n",
       "</g>\n",
       "<!-- 140303567401840 -->\n",
       "<g id=\"node5\" class=\"node\">\n",
       "<title>140303567401840</title>\n",
       "<polygon fill=\"#d3d3d3\" stroke=\"#000000\" points=\"101,-257 0,-257 0,-238 101,-238 101,-257\"/>\n",
       "<text text-anchor=\"middle\" x=\"50.5\" y=\"-245\" font-family=\"monospace\" font-size=\"10.00\" fill=\"#000000\">AccumulateGrad</text>\n",
       "</g>\n",
       "<!-- 140303567401840&#45;&gt;140303238859648 -->\n",
       "<g id=\"edge3\" class=\"edge\">\n",
       "<title>140303567401840&#45;&gt;140303238859648</title>\n",
       "<path fill=\"none\" stroke=\"#000000\" d=\"M67.6875,-237.9688C85.5034,-228.089 113.5788,-212.5199 134.1894,-201.0904\"/>\n",
       "<polygon fill=\"#000000\" stroke=\"#000000\" points=\"136.0222,-204.0762 143.0702,-196.1656 132.6274,-197.9545 136.0222,-204.0762\"/>\n",
       "</g>\n",
       "<!-- 140303351714576 -->\n",
       "<g id=\"node6\" class=\"node\">\n",
       "<title>140303351714576</title>\n",
       "<polygon fill=\"#add8e6\" stroke=\"#000000\" points=\"77.5,-330 23.5,-330 23.5,-299 77.5,-299 77.5,-330\"/>\n",
       "<text text-anchor=\"middle\" x=\"50.5\" y=\"-306\" font-family=\"monospace\" font-size=\"10.00\" fill=\"#000000\"> ()</text>\n",
       "</g>\n",
       "<!-- 140303351714576&#45;&gt;140303567401840 -->\n",
       "<g id=\"edge4\" class=\"edge\">\n",
       "<title>140303351714576&#45;&gt;140303567401840</title>\n",
       "<path fill=\"none\" stroke=\"#000000\" d=\"M50.5,-298.9604C50.5,-289.6356 50.5,-277.6748 50.5,-267.6317\"/>\n",
       "<polygon fill=\"#000000\" stroke=\"#000000\" points=\"54.0001,-267.35 50.5,-257.3501 47.0001,-267.3501 54.0001,-267.35\"/>\n",
       "</g>\n",
       "<!-- 140303238859360 -->\n",
       "<g id=\"node7\" class=\"node\">\n",
       "<title>140303238859360</title>\n",
       "<polygon fill=\"#d3d3d3\" stroke=\"#000000\" points=\"220,-257 119,-257 119,-238 220,-238 220,-257\"/>\n",
       "<text text-anchor=\"middle\" x=\"169.5\" y=\"-245\" font-family=\"monospace\" font-size=\"10.00\" fill=\"#000000\">AccumulateGrad</text>\n",
       "</g>\n",
       "<!-- 140303238859360&#45;&gt;140303238859648 -->\n",
       "<g id=\"edge5\" class=\"edge\">\n",
       "<title>140303238859360&#45;&gt;140303238859648</title>\n",
       "<path fill=\"none\" stroke=\"#000000\" d=\"M168.0938,-237.9688C166.8462,-229.5131 164.9838,-216.8901 163.4156,-206.2615\"/>\n",
       "<polygon fill=\"#000000\" stroke=\"#000000\" points=\"166.8483,-205.5476 161.9261,-196.1656 159.9233,-206.5694 166.8483,-205.5476\"/>\n",
       "</g>\n",
       "<!-- 140303349448352 -->\n",
       "<g id=\"node8\" class=\"node\">\n",
       "<title>140303349448352</title>\n",
       "<polygon fill=\"#add8e6\" stroke=\"#000000\" points=\"196.5,-330 142.5,-330 142.5,-299 196.5,-299 196.5,-330\"/>\n",
       "<text text-anchor=\"middle\" x=\"169.5\" y=\"-306\" font-family=\"monospace\" font-size=\"10.00\" fill=\"#000000\"> ()</text>\n",
       "</g>\n",
       "<!-- 140303349448352&#45;&gt;140303238859360 -->\n",
       "<g id=\"edge6\" class=\"edge\">\n",
       "<title>140303349448352&#45;&gt;140303238859360</title>\n",
       "<path fill=\"none\" stroke=\"#000000\" d=\"M169.5,-298.9604C169.5,-289.6356 169.5,-277.6748 169.5,-267.6317\"/>\n",
       "<polygon fill=\"#000000\" stroke=\"#000000\" points=\"173.0001,-267.35 169.5,-257.3501 166.0001,-267.3501 173.0001,-267.35\"/>\n",
       "</g>\n",
       "<!-- 140303238860080 -->\n",
       "<g id=\"node9\" class=\"node\">\n",
       "<title>140303238860080</title>\n",
       "<polygon fill=\"#d3d3d3\" stroke=\"#000000\" points=\"315,-141 226,-141 226,-122 315,-122 315,-141\"/>\n",
       "<text text-anchor=\"middle\" x=\"270.5\" y=\"-129\" font-family=\"monospace\" font-size=\"10.00\" fill=\"#000000\">PowBackward0</text>\n",
       "</g>\n",
       "<!-- 140303238860080&#45;&gt;140303238858016 -->\n",
       "<g id=\"edge8\" class=\"edge\">\n",
       "<title>140303238860080&#45;&gt;140303238858016</title>\n",
       "<path fill=\"none\" stroke=\"#000000\" d=\"M260.5714,-121.9197C252.4169,-114.0514 240.6697,-102.7164 230.9508,-93.3385\"/>\n",
       "<polygon fill=\"#000000\" stroke=\"#000000\" points=\"233.3252,-90.7659 223.6987,-86.3408 228.4646,-95.8032 233.3252,-90.7659\"/>\n",
       "</g>\n",
       "<!-- 140303238860368 -->\n",
       "<g id=\"node10\" class=\"node\">\n",
       "<title>140303238860368</title>\n",
       "<polygon fill=\"#d3d3d3\" stroke=\"#000000\" points=\"324,-196 223,-196 223,-177 324,-177 324,-196\"/>\n",
       "<text text-anchor=\"middle\" x=\"273.5\" y=\"-184\" font-family=\"monospace\" font-size=\"10.00\" fill=\"#000000\">AccumulateGrad</text>\n",
       "</g>\n",
       "<!-- 140303238860368&#45;&gt;140303238860080 -->\n",
       "<g id=\"edge9\" class=\"edge\">\n",
       "<title>140303238860368&#45;&gt;140303238860080</title>\n",
       "<path fill=\"none\" stroke=\"#000000\" d=\"M272.9774,-176.9197C272.595,-169.9083 272.0624,-160.1442 271.589,-151.4652\"/>\n",
       "<polygon fill=\"#000000\" stroke=\"#000000\" points=\"275.0763,-151.1353 271.0368,-141.3408 268.0867,-151.5166 275.0763,-151.1353\"/>\n",
       "</g>\n",
       "<!-- 140303351452752 -->\n",
       "<g id=\"node11\" class=\"node\">\n",
       "<title>140303351452752</title>\n",
       "<polygon fill=\"#add8e6\" stroke=\"#000000\" points=\"300.5,-263 246.5,-263 246.5,-232 300.5,-232 300.5,-263\"/>\n",
       "<text text-anchor=\"middle\" x=\"273.5\" y=\"-239\" font-family=\"monospace\" font-size=\"10.00\" fill=\"#000000\"> ()</text>\n",
       "</g>\n",
       "<!-- 140303351452752&#45;&gt;140303238860368 -->\n",
       "<g id=\"edge10\" class=\"edge\">\n",
       "<title>140303351452752&#45;&gt;140303238860368</title>\n",
       "<path fill=\"none\" stroke=\"#000000\" d=\"M273.5,-231.791C273.5,-224.0249 273.5,-214.5706 273.5,-206.3129\"/>\n",
       "<polygon fill=\"#000000\" stroke=\"#000000\" points=\"277.0001,-206.0647 273.5,-196.0648 270.0001,-206.0648 277.0001,-206.0647\"/>\n",
       "</g>\n",
       "</g>\n",
       "</svg>\n"
      ],
      "text/plain": [
       "<graphviz.graphs.Digraph at 0x7f9ae4b68c70>"
      ]
     },
     "execution_count": 346,
     "metadata": {},
     "output_type": "execute_result"
    }
   ],
   "source": [
    "make_dot(f)"
   ]
  },
  {
   "cell_type": "markdown",
   "metadata": {},
   "source": [
    "# Solving minimization problem with the help of gradients"
   ]
  },
  {
   "cell_type": "markdown",
   "metadata": {},
   "source": [
    "We are finding min value for the given function $y=f(x)$.\n",
    "\n",
    "\n",
    "\n",
    "$y=f(x) = ax^2 + bx + c$\n"
   ]
  },
  {
   "cell_type": "code",
   "execution_count": 294,
   "metadata": {},
   "outputs": [
    {
     "name": "stdout",
     "output_type": "stream",
     "text": [
      "Minimum Value: -0.25\n",
      "Optimized x: 1.4999384880065918\n"
     ]
    }
   ],
   "source": [
    "import torch\n",
    "\n",
    "# Define the function y = x^2 -3x +2\n",
    "def function(x):\n",
    "    return x**2 - 3 * x +2\n",
    "\n",
    "# Initial guess for the minimum\n",
    "x = torch.tensor(0.0, requires_grad=True)\n",
    "\n",
    "# Learning rate and number of iterations for gradient descent\n",
    "learning_rate = 0.01\n",
    "num_iterations = 500\n",
    "\n",
    "# Gradient descent loop\n",
    "\n",
    "x_cal=[]\n",
    "y_cal=[]\n",
    "\n",
    "for i in range(num_iterations):\n",
    "    # Calculate the value of the function at the current point\n",
    "    y = function(x)\n",
    "    \n",
    "    # Compute the gradient of the function with respect to x\n",
    "    gradient = torch.autograd.grad(y, x)[0]\n",
    "    \n",
    "    # Update the value of x using gradient descent\n",
    "    x = x - learning_rate * gradient\n",
    "\n",
    "    \n",
    "    x_cal.append(x.item())\n",
    "    y_cal.append(function(x).item())\n",
    "    \n",
    "# The optimized value of x should be the minimum value of the function\n",
    "minimum_value = function(x).item()\n",
    "\n",
    "print(\"Minimum Value:\", minimum_value)\n",
    "print(\"Optimized x:\", x.item())\n"
   ]
  },
  {
   "cell_type": "code",
   "execution_count": 293,
   "metadata": {},
   "outputs": [
    {
     "name": "stderr",
     "output_type": "stream",
     "text": [
      "/tmp/ipykernel_32451/680173409.py:12: UserWarning: color is redundantly defined by the 'color' keyword argument and the fmt string \"*:r\" (-> color='r'). The keyword argument will take precedence.\n",
      "  plt.plot(min_x,min_y,'*:r',color='g')\n",
      "/tmp/ipykernel_32451/680173409.py:14: UserWarning: color is redundantly defined by the 'color' keyword argument and the fmt string \"*:r\" (-> color='r'). The keyword argument will take precedence.\n",
      "  plt.plot(x_cal,y_cal,'*:r',color='g')\n"
     ]
    },
    {
     "data": {
      "image/png": "[encoded data removed]",
      "text/plain": [
       "<Figure size 1080x1080 with 1 Axes>"
      ]
     },
     "metadata": {
      "needs_background": "light"
     },
     "output_type": "display_data"
    }
   ],
   "source": [
    "# Import libraries\n",
    "import matplotlib.pyplot as plt\n",
    "import numpy as np\n",
    "\n",
    "# Creating vectors X and Y\n",
    "x = np.linspace(-1, 4, 1000)\n",
    "y = x*x-3*x+2\n",
    "\n",
    "fig = plt.figure(figsize = (15, 15))\n",
    "# Create the plot\n",
    "plt.plot(x, y)\n",
    "plt.plot(min_x,min_y,'*:r',color='g')\n",
    "\n",
    "plt.plot(x_cal,y_cal,'*:r',color='g')\n",
    "\n",
    "plt.text(min_x,min_y, '('+str(round(min_x,4))+','+str(round(min_y,4))+')', fontsize = 15,color='g') \n",
    "plt.axis([0, 4, -1,5])\n",
    "\n",
    "plt.xlabel('x',fontsize=10)\n",
    "plt.ylabel('$y=x^2 - 3x + 2$',fontsize=10)\n",
    "\n",
    "# Show the plot\n",
    "plt.show()"
   ]
  },
  {
   "cell_type": "code",
   "execution_count": 326,
   "metadata": {},
   "outputs": [
    {
     "name": "stdout",
     "output_type": "stream",
     "text": [
      "Minimum Value: -0.1274256706237793\n",
      "Optimized x: 0.480506032705307\n"
     ]
    }
   ],
   "source": [
    "import torch\n",
    "\n",
    "# Define the function y = 3x^3 + 2x^2 - 4x + 1\n",
    "def function(x):\n",
    "    return 3 * x**3 + 2 * x**2 - 4 * x + 1\n",
    "\n",
    "# Initial guess for the minimum\n",
    "x = torch.tensor(0.0, requires_grad=True)\n",
    "\n",
    "# Learning rate and number of iterations for gradient descent\n",
    "learning_rate = 0.01\n",
    "num_iterations = 1000\n",
    "\n",
    "\n",
    "x_cal=[]\n",
    "y_cal=[]\n",
    "\n",
    "# Gradient descent loop\n",
    "for i in range(num_iterations):\n",
    "    # Calculate the value of the function at the current point\n",
    "    y = function(x)\n",
    "    \n",
    "    # Compute the gradient of the function with respect to x\n",
    "    gradient = torch.autograd.grad(y, x)[0]\n",
    "    \n",
    "    # Update the value of x using gradient descent\n",
    "    x = x - learning_rate * gradient\n",
    "    \n",
    "    x_cal.append(x.item())\n",
    "    y_cal.append(function(x).item())\n",
    "\n",
    "# The optimized value of x should be the minimum value of the function\n",
    "min_y = function(x).item()\n",
    "min_x=x.item()\n",
    "print(\"Minimum Value:\", min_y)\n",
    "print(\"Optimized x:\", min_x)\n"
   ]
  },
  {
   "cell_type": "code",
   "execution_count": 327,
   "metadata": {},
   "outputs": [
    {
     "name": "stdout",
     "output_type": "stream",
     "text": [
      "0.03999999910593033 0.480506032705307\n",
      "-0.1274256706237793 0.843392014503479\n"
     ]
    }
   ],
   "source": [
    "print(min(x_cal),max(x_cal))\n",
    "\n",
    "print(min(y_cal),max(y_cal))\n"
   ]
  },
  {
   "cell_type": "code",
   "execution_count": 328,
   "metadata": {},
   "outputs": [
    {
     "name": "stderr",
     "output_type": "stream",
     "text": [
      "/tmp/ipykernel_32451/3260429602.py:12: UserWarning: color is redundantly defined by the 'color' keyword argument and the fmt string \"*:g\" (-> color='g'). The keyword argument will take precedence.\n",
      "  plt.plot(min_x,min_y,'*:g',color='g')\n",
      "/tmp/ipykernel_32451/3260429602.py:14: UserWarning: color is redundantly defined by the 'color' keyword argument and the fmt string \"*:r\" (-> color='r'). The keyword argument will take precedence.\n",
      "  plt.plot(x_cal,y_cal,'*:r',color='r')\n"
     ]
    },
    {
     "data": {
      "image/png": "[encoded data removed]",
      "text/plain": [
       "<Figure size 1080x1080 with 1 Axes>"
      ]
     },
     "metadata": {
      "needs_background": "light"
     },
     "output_type": "display_data"
    }
   ],
   "source": [
    "# Import libraries\n",
    "import matplotlib.pyplot as plt\n",
    "import numpy as np\n",
    "\n",
    "# Creating vectors X and Y\n",
    "x = np.linspace(-1, 4, 1000)\n",
    "y = 3 * x**3 + 2 * x**2 - 4 * x + 1\n",
    "\n",
    "fig = plt.figure(figsize = (15, 15))\n",
    "# Create the plot\n",
    "plt.plot(x, y)\n",
    "plt.plot(min_x,min_y,'*:g',color='g')\n",
    "\n",
    "plt.plot(x_cal,y_cal,'*:r',color='r')\n",
    "\n",
    "plt.text(min_x,min_y, '('+str(round(min_x,4))+','+str(round(min_y,4))+')', fontsize = 15,color='g') \n",
    "plt.axis([0, 4, -1,5])\n",
    "\n",
    "plt.xlabel('x',fontsize=10)\n",
    "plt.ylabel('$y=x^2 - 3x + 2$',fontsize=10)\n",
    "\n",
    "# Show the plot\n",
    "plt.show()"
   ]
  },
  {
   "cell_type": "markdown",
   "metadata": {},
   "source": [
    "# torch.optim"
   ]
  },
  {
   "cell_type": "markdown",
   "metadata": {},
   "source": [
    "<img src='images/Fig_3.png'>"
   ]
  },
  {
   "cell_type": "code",
   "execution_count": 7,
   "metadata": {},
   "outputs": [
    {
     "name": "stdout",
     "output_type": "stream",
     "text": [
      "min-x 1.499999761581421\n",
      "min-y: -0.2499997615814209\n"
     ]
    }
   ],
   "source": [
    "import torch\n",
    "import torch.optim as optim\n",
    "\n",
    "# Define the coefficients of the quadratic equation: y=f(x) = ax^2 + bx + c\n",
    "a = torch.tensor(1.0, requires_grad=False)\n",
    "b = torch.tensor(-3.0, requires_grad=False)\n",
    "c = torch.tensor(2.0, requires_grad=False)\n",
    "\n",
    "# Create a variable x with requires_grad=True to track operations for gradient computation\n",
    "x = torch.tensor(0.0, requires_grad=True)\n",
    "\n",
    "# Learning rate and number of iterations for gradient descent\n",
    "learning_rate = 0.1\n",
    "num_iterations = 10000\n",
    "\n",
    "# Define the quadratic equation\n",
    "def equation(x):\n",
    "    return a * x**2 + b * x + c\n",
    "\n",
    "\n",
    "# Gradient descent optimizer\n",
    "optimizer = optim.SGD([x], lr=learning_rate)\n",
    "\n",
    "# Gradient descent loop\n",
    "for i in range(num_iterations):\n",
    "    # Calculate the loss (value of y)\n",
    "    y = equation(x)\n",
    "    \n",
    "    # Compute the gradient of the loss with respect to x\n",
    "    optimizer.zero_grad()\n",
    "    y.backward()\n",
    "    \n",
    "    # Update the value of x using gradient descent\n",
    "    optimizer.step()\n",
    "\n",
    "# The optimized value of x should be the root of the equation\n",
    "min_y=equation(x).item()\n",
    "min_x = x.item()\n",
    "\n",
    "print(\"min-x\", min_x)\n",
    "print('min-y:',min_y)\n"
   ]
  },
  {
   "cell_type": "markdown",
   "metadata": {},
   "source": [
    "# visualizing the proof"
   ]
  },
  {
   "cell_type": "code",
   "execution_count": 8,
   "metadata": {},
   "outputs": [
    {
     "name": "stderr",
     "output_type": "stream",
     "text": [
      "/tmp/ipykernel_22198/1843398262.py:12: UserWarning: color is redundantly defined by the 'color' keyword argument and the fmt string \"*:r\" (-> color='r'). The keyword argument will take precedence.\n",
      "  plt.plot(min_x,min_y,'*:r',color='red')\n"
     ]
    },
    {
     "data": {
      "image/png": "[encoded data removed]",
      "text/plain": [
       "<Figure size 720x360 with 1 Axes>"
      ]
     },
     "metadata": {
      "needs_background": "light"
     },
     "output_type": "display_data"
    }
   ],
   "source": [
    "# Import libraries\n",
    "import matplotlib.pyplot as plt\n",
    "import numpy as np\n",
    "\n",
    "# Creating vectors X and Y\n",
    "x = np.linspace(-1, 4, 1000)\n",
    "y = x*x-3*x+2\n",
    "\n",
    "fig = plt.figure(figsize = (10, 5))\n",
    "# Create the plot\n",
    "plt.plot(x, y)\n",
    "plt.plot(min_x,min_y,'*:r',color='red')\n",
    "plt.text(min_x,min_y, '('+str(round(min_x,4))+','+str(round(min_y,4))+')', fontsize = 15,color='g') \n",
    "plt.axis([0, 4, -1,5])\n",
    "\n",
    "plt.xlabel('x',fontsize=10)\n",
    "plt.ylabel('$y=ax^2 + bx + c$',fontsize=10)\n",
    "\n",
    "# Show the plot\n",
    "plt.show()\n"
   ]
  },
  {
   "cell_type": "markdown",
   "metadata": {},
   "source": [
    "# Linear Regression "
   ]
  },
  {
   "cell_type": "markdown",
   "metadata": {},
   "source": [
    "Linear regression is a fundamental machine learning algorithm used for modeling the relationship between a dependent variable (target) and one or more independent variables (features). \n",
    "\n",
    "In this example, I'll demonstrate linear regression with a single feature using PyTorch.\n",
    "\n",
    "We are fitting into cubic polynomial model."
   ]
  },
  {
   "cell_type": "code",
   "execution_count": 1,
   "metadata": {},
   "outputs": [
    {
     "name": "stderr",
     "output_type": "stream",
     "text": [
      "/home/venkatesh/anaconda3/envs/venkatesh_pytorch_110/lib/python3.9/site-packages/tqdm/auto.py:22: TqdmWarning: IProgress not found. Please update jupyter and ipywidgets. See https://ipywidgets.readthedocs.io/en/stable/user_install.html\n",
      "  from .autonotebook import tqdm as notebook_tqdm\n"
     ]
    },
    {
     "name": "stdout",
     "output_type": "stream",
     "text": [
      "Epoch [100/3000], Loss: 0.1357\n",
      "Epoch [200/3000], Loss: 0.1068\n",
      "Epoch [300/3000], Loss: 0.0840\n",
      "Epoch [400/3000], Loss: 0.0661\n",
      "Epoch [500/3000], Loss: 0.0521\n",
      "Epoch [600/3000], Loss: 0.0410\n",
      "Epoch [700/3000], Loss: 0.0323\n",
      "Epoch [800/3000], Loss: 0.0254\n",
      "Epoch [900/3000], Loss: 0.0200\n",
      "Epoch [1000/3000], Loss: 0.0158\n",
      "Epoch [1100/3000], Loss: 0.0124\n",
      "Epoch [1200/3000], Loss: 0.0098\n",
      "Epoch [1300/3000], Loss: 0.0077\n",
      "Epoch [1400/3000], Loss: 0.0061\n",
      "Epoch [1500/3000], Loss: 0.0048\n",
      "Epoch [1600/3000], Loss: 0.0038\n",
      "Epoch [1700/3000], Loss: 0.0030\n",
      "Epoch [1800/3000], Loss: 0.0024\n",
      "Epoch [1900/3000], Loss: 0.0019\n",
      "Epoch [2000/3000], Loss: 0.0015\n",
      "Epoch [2100/3000], Loss: 0.0012\n",
      "Epoch [2200/3000], Loss: 0.0010\n",
      "Epoch [2300/3000], Loss: 0.0008\n",
      "Epoch [2400/3000], Loss: 0.0007\n",
      "Epoch [2500/3000], Loss: 0.0005\n",
      "Epoch [2600/3000], Loss: 0.0005\n",
      "Epoch [2700/3000], Loss: 0.0004\n",
      "Epoch [2800/3000], Loss: 0.0003\n",
      "Epoch [2900/3000], Loss: 0.0003\n",
      "Epoch [3000/3000], Loss: 0.0002\n",
      "Learned parameters: a = 3.4691, b = 1.1183, c = -3.5254, d = 0.9391\n"
     ]
    }
   ],
   "source": [
    "import torch\n",
    "import torch.optim as optim\n",
    "\n",
    "# Simulated data\n",
    "# Generate some random data for x and compute y = ax^3 + bx^2 + cx + d + noise\n",
    "torch.manual_seed(42)\n",
    "x = torch.rand(100, 1)\n",
    "y = 3 * x**3 + 2 * x**2 - 4 * x + 1 \n",
    "\n",
    "# Define the cubic polynomial regression model\n",
    "class CubicPolynomialRegressionModel(torch.nn.Module):\n",
    "    def __init__(self):\n",
    "        super(CubicPolynomialRegressionModel, self).__init__()\n",
    "        self.a = torch.nn.Parameter(torch.rand(1))\n",
    "        self.b = torch.nn.Parameter(torch.rand(1))\n",
    "        self.c = torch.nn.Parameter(torch.rand(1))\n",
    "        self.d = torch.nn.Parameter(torch.rand(1))\n",
    "\n",
    "    def forward(self, x):\n",
    "        return self.a * x**3 + self.b * x**2 + self.c * x + self.d\n",
    "\n",
    "# Create the model\n",
    "model = CubicPolynomialRegressionModel()\n",
    "\n",
    "# Loss function (Mean Squared Error)\n",
    "criterion = torch.nn.MSELoss()\n",
    "\n",
    "# Optimizer (Stochastic Gradient Descent)\n",
    "optimizer = optim.SGD(model.parameters(), lr=0.1)\n",
    "\n",
    "# Training loop\n",
    "num_epochs = 3000\n",
    "loss_list=[]\n",
    "for epoch in range(num_epochs):\n",
    "\n",
    "    # Forward pass\n",
    "    outputs = model(x)\n",
    "    \n",
    "    # Compute the loss\n",
    "    loss = criterion(outputs, y)\n",
    "    loss_list.append(loss.item())\n",
    "\n",
    "    # Backpropagation and optimization\n",
    "    optimizer.zero_grad()\n",
    "    loss.backward()\n",
    "    optimizer.step()\n",
    "\n",
    "    # Print the loss every 100 epochs\n",
    "    if (epoch + 1) % 100 == 0:\n",
    "        print(f'Epoch [{epoch + 1}/{num_epochs}], Loss: {loss.item():.4f}')\n",
    "\n",
    "# Print the learned parameters (a, b, c, d)\n",
    "with torch.no_grad():\n",
    "    a, b, c, d = model.a.item(), model.b.item(), model.c.item(), model.d.item()\n",
    "    print(f'Learned parameters: a = {a:.4f}, b = {b:.4f}, c = {c:.4f}, d = {d:.4f}')\n"
   ]
  },
  {
   "cell_type": "code",
   "execution_count": 2,
   "metadata": {},
   "outputs": [
    {
     "data": {
      "text/plain": [
       "Text(0, 0.5, 'MSE loss')"
      ]
     },
     "execution_count": 2,
     "metadata": {},
     "output_type": "execute_result"
    },
    {
     "data": {
      "image/png": "[encoded data removed]",
      "text/plain": [
       "<Figure size 432x288 with 1 Axes>"
      ]
     },
     "metadata": {
      "needs_background": "light"
     },
     "output_type": "display_data"
    }
   ],
   "source": [
    "import matplotlib.pyplot as plt\n",
    "plt.plot(loss_list)\n",
    "plt.xlabel('epoch')\n",
    "plt.ylabel('MSE loss')"
   ]
  },
  {
   "cell_type": "code",
   "execution_count": 209,
   "metadata": {},
   "outputs": [
    {
     "name": "stdout",
     "output_type": "stream",
     "text": [
      "Epoch [100/100000], Loss: 0.138098\n",
      "Epoch [200/100000], Loss: 0.106092\n",
      "Epoch [300/100000], Loss: 0.081518\n",
      "Epoch [400/100000], Loss: 0.062641\n",
      "Epoch [500/100000], Loss: 0.048142\n",
      "Epoch [600/100000], Loss: 0.037005\n",
      "Epoch [700/100000], Loss: 0.028451\n",
      "Epoch [800/100000], Loss: 0.021880\n",
      "Epoch [900/100000], Loss: 0.016832\n",
      "Epoch [1000/100000], Loss: 0.012955\n",
      "Epoch [1100/100000], Loss: 0.009977\n",
      "Epoch [1200/100000], Loss: 0.007690\n",
      "Epoch [1300/100000], Loss: 0.005932\n",
      "Epoch [1400/100000], Loss: 0.004582\n",
      "Epoch [1500/100000], Loss: 0.003546\n",
      "Epoch [1600/100000], Loss: 0.002749\n",
      "Epoch [1700/100000], Loss: 0.002137\n",
      "Epoch [1800/100000], Loss: 0.001667\n",
      "Epoch [1900/100000], Loss: 0.001305\n",
      "Epoch [2000/100000], Loss: 0.001028\n",
      "Epoch [2100/100000], Loss: 0.000815\n",
      "Epoch [2200/100000], Loss: 0.000651\n",
      "Epoch [2300/100000], Loss: 0.000525\n",
      "Epoch [2400/100000], Loss: 0.000428\n",
      "Epoch [2500/100000], Loss: 0.000353\n",
      "Epoch [2600/100000], Loss: 0.000296\n",
      "Epoch [2700/100000], Loss: 0.000251\n",
      "Epoch [2800/100000], Loss: 0.000217\n",
      "Epoch [2900/100000], Loss: 0.000191\n",
      "Epoch [3000/100000], Loss: 0.000171\n",
      "Epoch [3100/100000], Loss: 0.000155\n",
      "Epoch [3200/100000], Loss: 0.000143\n",
      "Epoch [3300/100000], Loss: 0.000134\n",
      "Epoch [3400/100000], Loss: 0.000126\n",
      "Epoch [3500/100000], Loss: 0.000121\n",
      "Epoch [3600/100000], Loss: 0.000116\n",
      "Epoch [3700/100000], Loss: 0.000113\n",
      "Epoch [3800/100000], Loss: 0.000110\n",
      "Epoch [3900/100000], Loss: 0.000107\n",
      "Epoch [4000/100000], Loss: 0.000106\n",
      "Epoch [4100/100000], Loss: 0.000104\n",
      "Epoch [4200/100000], Loss: 0.000103\n",
      "Epoch [4300/100000], Loss: 0.000102\n",
      "Epoch [4400/100000], Loss: 0.000101\n",
      "Epoch [4500/100000], Loss: 0.000100\n",
      "Epoch [4600/100000], Loss: 0.000099\n",
      "Epoch [4700/100000], Loss: 0.000099\n",
      "Epoch [4800/100000], Loss: 0.000098\n",
      "Epoch [4900/100000], Loss: 0.000098\n",
      "Epoch [5000/100000], Loss: 0.000097\n",
      "Epoch [5100/100000], Loss: 0.000097\n",
      "Epoch [5200/100000], Loss: 0.000096\n",
      "Epoch [5300/100000], Loss: 0.000096\n",
      "Epoch [5400/100000], Loss: 0.000095\n",
      "Epoch [5500/100000], Loss: 0.000095\n",
      "Epoch [5600/100000], Loss: 0.000094\n",
      "Epoch [5700/100000], Loss: 0.000094\n",
      "Epoch [5800/100000], Loss: 0.000094\n",
      "Epoch [5900/100000], Loss: 0.000093\n",
      "Epoch [6000/100000], Loss: 0.000093\n",
      "Epoch [6100/100000], Loss: 0.000092\n",
      "Epoch [6200/100000], Loss: 0.000092\n",
      "Epoch [6300/100000], Loss: 0.000092\n",
      "Epoch [6400/100000], Loss: 0.000091\n",
      "Epoch [6500/100000], Loss: 0.000091\n",
      "Epoch [6600/100000], Loss: 0.000090\n",
      "Epoch [6700/100000], Loss: 0.000090\n",
      "Epoch [6800/100000], Loss: 0.000090\n",
      "Epoch [6900/100000], Loss: 0.000089\n",
      "Epoch [7000/100000], Loss: 0.000089\n",
      "Epoch [7100/100000], Loss: 0.000088\n",
      "Epoch [7200/100000], Loss: 0.000088\n",
      "Epoch [7300/100000], Loss: 0.000088\n",
      "Epoch [7400/100000], Loss: 0.000087\n",
      "Epoch [7500/100000], Loss: 0.000087\n",
      "Epoch [7600/100000], Loss: 0.000087\n",
      "Epoch [7700/100000], Loss: 0.000086\n",
      "Epoch [7800/100000], Loss: 0.000086\n",
      "Epoch [7900/100000], Loss: 0.000086\n",
      "Epoch [8000/100000], Loss: 0.000085\n",
      "Epoch [8100/100000], Loss: 0.000085\n",
      "Epoch [8200/100000], Loss: 0.000084\n",
      "Epoch [8300/100000], Loss: 0.000084\n",
      "Epoch [8400/100000], Loss: 0.000084\n",
      "Epoch [8500/100000], Loss: 0.000083\n",
      "Epoch [8600/100000], Loss: 0.000083\n",
      "Epoch [8700/100000], Loss: 0.000083\n",
      "Epoch [8800/100000], Loss: 0.000082\n",
      "Epoch [8900/100000], Loss: 0.000082\n",
      "Epoch [9000/100000], Loss: 0.000082\n",
      "Epoch [9100/100000], Loss: 0.000081\n",
      "Epoch [9200/100000], Loss: 0.000081\n",
      "Epoch [9300/100000], Loss: 0.000081\n",
      "Epoch [9400/100000], Loss: 0.000080\n",
      "Epoch [9500/100000], Loss: 0.000080\n",
      "Epoch [9600/100000], Loss: 0.000080\n",
      "Epoch [9700/100000], Loss: 0.000079\n",
      "Epoch [9800/100000], Loss: 0.000079\n",
      "Epoch [9900/100000], Loss: 0.000079\n",
      "Epoch [10000/100000], Loss: 0.000078\n",
      "Epoch [10100/100000], Loss: 0.000078\n",
      "Epoch [10200/100000], Loss: 0.000078\n",
      "Epoch [10300/100000], Loss: 0.000077\n",
      "Epoch [10400/100000], Loss: 0.000077\n",
      "Epoch [10500/100000], Loss: 0.000077\n",
      "Epoch [10600/100000], Loss: 0.000076\n",
      "Epoch [10700/100000], Loss: 0.000076\n",
      "Epoch [10800/100000], Loss: 0.000076\n",
      "Epoch [10900/100000], Loss: 0.000075\n",
      "Epoch [11000/100000], Loss: 0.000075\n",
      "Epoch [11100/100000], Loss: 0.000075\n",
      "Epoch [11200/100000], Loss: 0.000074\n",
      "Epoch [11300/100000], Loss: 0.000074\n",
      "Epoch [11400/100000], Loss: 0.000074\n",
      "Epoch [11500/100000], Loss: 0.000073\n",
      "Epoch [11600/100000], Loss: 0.000073\n",
      "Epoch [11700/100000], Loss: 0.000073\n",
      "Epoch [11800/100000], Loss: 0.000072\n",
      "Epoch [11900/100000], Loss: 0.000072\n",
      "Epoch [12000/100000], Loss: 0.000072\n",
      "Epoch [12100/100000], Loss: 0.000072\n",
      "Epoch [12200/100000], Loss: 0.000071\n",
      "Epoch [12300/100000], Loss: 0.000071\n",
      "Epoch [12400/100000], Loss: 0.000071\n",
      "Epoch [12500/100000], Loss: 0.000070\n",
      "Epoch [12600/100000], Loss: 0.000070\n",
      "Epoch [12700/100000], Loss: 0.000070\n",
      "Epoch [12800/100000], Loss: 0.000069\n",
      "Epoch [12900/100000], Loss: 0.000069\n",
      "Epoch [13000/100000], Loss: 0.000069\n",
      "Epoch [13100/100000], Loss: 0.000069\n",
      "Epoch [13200/100000], Loss: 0.000068\n",
      "Epoch [13300/100000], Loss: 0.000068\n",
      "Epoch [13400/100000], Loss: 0.000068\n",
      "Epoch [13500/100000], Loss: 0.000067\n",
      "Epoch [13600/100000], Loss: 0.000067\n",
      "Epoch [13700/100000], Loss: 0.000067\n",
      "Epoch [13800/100000], Loss: 0.000067\n",
      "Epoch [13900/100000], Loss: 0.000066\n",
      "Epoch [14000/100000], Loss: 0.000066\n",
      "Epoch [14100/100000], Loss: 0.000066\n",
      "Epoch [14200/100000], Loss: 0.000065\n",
      "Epoch [14300/100000], Loss: 0.000065\n",
      "Epoch [14400/100000], Loss: 0.000065\n",
      "Epoch [14500/100000], Loss: 0.000065\n",
      "Epoch [14600/100000], Loss: 0.000064\n",
      "Epoch [14700/100000], Loss: 0.000064\n",
      "Epoch [14800/100000], Loss: 0.000064\n",
      "Epoch [14900/100000], Loss: 0.000063\n",
      "Epoch [15000/100000], Loss: 0.000063\n",
      "Epoch [15100/100000], Loss: 0.000063\n",
      "Epoch [15200/100000], Loss: 0.000063\n",
      "Epoch [15300/100000], Loss: 0.000062\n",
      "Epoch [15400/100000], Loss: 0.000062\n",
      "Epoch [15500/100000], Loss: 0.000062\n",
      "Epoch [15600/100000], Loss: 0.000062\n",
      "Epoch [15700/100000], Loss: 0.000061\n",
      "Epoch [15800/100000], Loss: 0.000061\n",
      "Epoch [15900/100000], Loss: 0.000061\n",
      "Epoch [16000/100000], Loss: 0.000061\n",
      "Epoch [16100/100000], Loss: 0.000060\n",
      "Epoch [16200/100000], Loss: 0.000060\n",
      "Epoch [16300/100000], Loss: 0.000060\n",
      "Epoch [16400/100000], Loss: 0.000060\n",
      "Epoch [16500/100000], Loss: 0.000059\n",
      "Epoch [16600/100000], Loss: 0.000059\n",
      "Epoch [16700/100000], Loss: 0.000059\n",
      "Epoch [16800/100000], Loss: 0.000059\n",
      "Epoch [16900/100000], Loss: 0.000058\n",
      "Epoch [17000/100000], Loss: 0.000058\n",
      "Epoch [17100/100000], Loss: 0.000058\n",
      "Epoch [17200/100000], Loss: 0.000058\n",
      "Epoch [17300/100000], Loss: 0.000057\n",
      "Epoch [17400/100000], Loss: 0.000057\n",
      "Epoch [17500/100000], Loss: 0.000057\n",
      "Epoch [17600/100000], Loss: 0.000057\n",
      "Epoch [17700/100000], Loss: 0.000056\n",
      "Epoch [17800/100000], Loss: 0.000056\n",
      "Epoch [17900/100000], Loss: 0.000056\n",
      "Epoch [18000/100000], Loss: 0.000056\n",
      "Epoch [18100/100000], Loss: 0.000055\n",
      "Epoch [18200/100000], Loss: 0.000055\n",
      "Epoch [18300/100000], Loss: 0.000055\n",
      "Epoch [18400/100000], Loss: 0.000055\n",
      "Epoch [18500/100000], Loss: 0.000054\n",
      "Epoch [18600/100000], Loss: 0.000054\n",
      "Epoch [18700/100000], Loss: 0.000054\n",
      "Epoch [18800/100000], Loss: 0.000054\n",
      "Epoch [18900/100000], Loss: 0.000054\n",
      "Epoch [19000/100000], Loss: 0.000053\n",
      "Epoch [19100/100000], Loss: 0.000053\n",
      "Epoch [19200/100000], Loss: 0.000053\n",
      "Epoch [19300/100000], Loss: 0.000053\n",
      "Epoch [19400/100000], Loss: 0.000052\n",
      "Epoch [19500/100000], Loss: 0.000052\n",
      "Epoch [19600/100000], Loss: 0.000052\n",
      "Epoch [19700/100000], Loss: 0.000052\n",
      "Epoch [19800/100000], Loss: 0.000052\n",
      "Epoch [19900/100000], Loss: 0.000051\n",
      "Epoch [20000/100000], Loss: 0.000051\n",
      "Epoch [20100/100000], Loss: 0.000051\n",
      "Epoch [20200/100000], Loss: 0.000051\n",
      "Epoch [20300/100000], Loss: 0.000050\n",
      "Epoch [20400/100000], Loss: 0.000050\n",
      "Epoch [20500/100000], Loss: 0.000050\n",
      "Epoch [20600/100000], Loss: 0.000050\n",
      "Epoch [20700/100000], Loss: 0.000050\n",
      "Epoch [20800/100000], Loss: 0.000049\n",
      "Epoch [20900/100000], Loss: 0.000049\n",
      "Epoch [21000/100000], Loss: 0.000049\n",
      "Epoch [21100/100000], Loss: 0.000049\n",
      "Epoch [21200/100000], Loss: 0.000049\n",
      "Epoch [21300/100000], Loss: 0.000048\n",
      "Epoch [21400/100000], Loss: 0.000048\n",
      "Epoch [21500/100000], Loss: 0.000048\n",
      "Epoch [21600/100000], Loss: 0.000048\n",
      "Epoch [21700/100000], Loss: 0.000048\n",
      "Epoch [21800/100000], Loss: 0.000047\n",
      "Epoch [21900/100000], Loss: 0.000047\n",
      "Epoch [22000/100000], Loss: 0.000047\n",
      "Epoch [22100/100000], Loss: 0.000047\n",
      "Epoch [22200/100000], Loss: 0.000047\n",
      "Epoch [22300/100000], Loss: 0.000046\n",
      "Epoch [22400/100000], Loss: 0.000046\n",
      "Epoch [22500/100000], Loss: 0.000046\n",
      "Epoch [22600/100000], Loss: 0.000046\n",
      "Epoch [22700/100000], Loss: 0.000046\n",
      "Epoch [22800/100000], Loss: 0.000045\n",
      "Epoch [22900/100000], Loss: 0.000045\n",
      "Epoch [23000/100000], Loss: 0.000045\n",
      "Epoch [23100/100000], Loss: 0.000045\n",
      "Epoch [23200/100000], Loss: 0.000045\n",
      "Epoch [23300/100000], Loss: 0.000044\n"
     ]
    },
    {
     "name": "stdout",
     "output_type": "stream",
     "text": [
      "Epoch [23400/100000], Loss: 0.000044\n",
      "Epoch [23500/100000], Loss: 0.000044\n",
      "Epoch [23600/100000], Loss: 0.000044\n",
      "Epoch [23700/100000], Loss: 0.000044\n",
      "Epoch [23800/100000], Loss: 0.000043\n",
      "Epoch [23900/100000], Loss: 0.000043\n",
      "Epoch [24000/100000], Loss: 0.000043\n",
      "Epoch [24100/100000], Loss: 0.000043\n",
      "Epoch [24200/100000], Loss: 0.000043\n",
      "Epoch [24300/100000], Loss: 0.000043\n",
      "Epoch [24400/100000], Loss: 0.000042\n",
      "Epoch [24500/100000], Loss: 0.000042\n",
      "Epoch [24600/100000], Loss: 0.000042\n",
      "Epoch [24700/100000], Loss: 0.000042\n",
      "Epoch [24800/100000], Loss: 0.000042\n",
      "Epoch [24900/100000], Loss: 0.000041\n",
      "Epoch [25000/100000], Loss: 0.000041\n",
      "Epoch [25100/100000], Loss: 0.000041\n",
      "Epoch [25200/100000], Loss: 0.000041\n",
      "Epoch [25300/100000], Loss: 0.000041\n",
      "Epoch [25400/100000], Loss: 0.000041\n",
      "Epoch [25500/100000], Loss: 0.000040\n",
      "Epoch [25600/100000], Loss: 0.000040\n",
      "Epoch [25700/100000], Loss: 0.000040\n",
      "Epoch [25800/100000], Loss: 0.000040\n",
      "Epoch [25900/100000], Loss: 0.000040\n",
      "Epoch [26000/100000], Loss: 0.000040\n",
      "Epoch [26100/100000], Loss: 0.000039\n",
      "Epoch [26200/100000], Loss: 0.000039\n",
      "Epoch [26300/100000], Loss: 0.000039\n",
      "Epoch [26400/100000], Loss: 0.000039\n",
      "Epoch [26500/100000], Loss: 0.000039\n",
      "Epoch [26600/100000], Loss: 0.000039\n",
      "Epoch [26700/100000], Loss: 0.000038\n",
      "Epoch [26800/100000], Loss: 0.000038\n",
      "Epoch [26900/100000], Loss: 0.000038\n",
      "Epoch [27000/100000], Loss: 0.000038\n",
      "Epoch [27100/100000], Loss: 0.000038\n",
      "Epoch [27200/100000], Loss: 0.000038\n",
      "Epoch [27300/100000], Loss: 0.000037\n",
      "Epoch [27400/100000], Loss: 0.000037\n",
      "Epoch [27500/100000], Loss: 0.000037\n",
      "Epoch [27600/100000], Loss: 0.000037\n",
      "Epoch [27700/100000], Loss: 0.000037\n",
      "Epoch [27800/100000], Loss: 0.000037\n",
      "Epoch [27900/100000], Loss: 0.000037\n",
      "Epoch [28000/100000], Loss: 0.000036\n",
      "Epoch [28100/100000], Loss: 0.000036\n",
      "Epoch [28200/100000], Loss: 0.000036\n",
      "Epoch [28300/100000], Loss: 0.000036\n",
      "Epoch [28400/100000], Loss: 0.000036\n",
      "Epoch [28500/100000], Loss: 0.000036\n",
      "Epoch [28600/100000], Loss: 0.000035\n",
      "Epoch [28700/100000], Loss: 0.000035\n",
      "Epoch [28800/100000], Loss: 0.000035\n",
      "Epoch [28900/100000], Loss: 0.000035\n",
      "Epoch [29000/100000], Loss: 0.000035\n",
      "Epoch [29100/100000], Loss: 0.000035\n",
      "Epoch [29200/100000], Loss: 0.000035\n",
      "Epoch [29300/100000], Loss: 0.000034\n",
      "Epoch [29400/100000], Loss: 0.000034\n",
      "Epoch [29500/100000], Loss: 0.000034\n",
      "Epoch [29600/100000], Loss: 0.000034\n",
      "Epoch [29700/100000], Loss: 0.000034\n",
      "Epoch [29800/100000], Loss: 0.000034\n",
      "Epoch [29900/100000], Loss: 0.000034\n",
      "Epoch [30000/100000], Loss: 0.000033\n",
      "Epoch [30100/100000], Loss: 0.000033\n",
      "Epoch [30200/100000], Loss: 0.000033\n",
      "Epoch [30300/100000], Loss: 0.000033\n",
      "Epoch [30400/100000], Loss: 0.000033\n",
      "Epoch [30500/100000], Loss: 0.000033\n",
      "Epoch [30600/100000], Loss: 0.000033\n",
      "Epoch [30700/100000], Loss: 0.000032\n",
      "Epoch [30800/100000], Loss: 0.000032\n",
      "Epoch [30900/100000], Loss: 0.000032\n",
      "Epoch [31000/100000], Loss: 0.000032\n",
      "Epoch [31100/100000], Loss: 0.000032\n",
      "Epoch [31200/100000], Loss: 0.000032\n",
      "Epoch [31300/100000], Loss: 0.000032\n",
      "Epoch [31400/100000], Loss: 0.000031\n",
      "Epoch [31500/100000], Loss: 0.000031\n",
      "Epoch [31600/100000], Loss: 0.000031\n",
      "Epoch [31700/100000], Loss: 0.000031\n",
      "Epoch [31800/100000], Loss: 0.000031\n",
      "Epoch [31900/100000], Loss: 0.000031\n",
      "Epoch [32000/100000], Loss: 0.000031\n",
      "Epoch [32100/100000], Loss: 0.000031\n",
      "Epoch [32200/100000], Loss: 0.000030\n",
      "Epoch [32300/100000], Loss: 0.000030\n",
      "Epoch [32400/100000], Loss: 0.000030\n",
      "Epoch [32500/100000], Loss: 0.000030\n",
      "Epoch [32600/100000], Loss: 0.000030\n",
      "Epoch [32700/100000], Loss: 0.000030\n",
      "Epoch [32800/100000], Loss: 0.000030\n",
      "Epoch [32900/100000], Loss: 0.000030\n",
      "Epoch [33000/100000], Loss: 0.000029\n",
      "Epoch [33100/100000], Loss: 0.000029\n",
      "Epoch [33200/100000], Loss: 0.000029\n",
      "Epoch [33300/100000], Loss: 0.000029\n",
      "Epoch [33400/100000], Loss: 0.000029\n",
      "Epoch [33500/100000], Loss: 0.000029\n",
      "Epoch [33600/100000], Loss: 0.000029\n",
      "Epoch [33700/100000], Loss: 0.000029\n",
      "Epoch [33800/100000], Loss: 0.000028\n",
      "Epoch [33900/100000], Loss: 0.000028\n",
      "Epoch [34000/100000], Loss: 0.000028\n",
      "Epoch [34100/100000], Loss: 0.000028\n",
      "Epoch [34200/100000], Loss: 0.000028\n",
      "Epoch [34300/100000], Loss: 0.000028\n",
      "Epoch [34400/100000], Loss: 0.000028\n",
      "Epoch [34500/100000], Loss: 0.000028\n",
      "Epoch [34600/100000], Loss: 0.000027\n",
      "Epoch [34700/100000], Loss: 0.000027\n",
      "Epoch [34800/100000], Loss: 0.000027\n",
      "Epoch [34900/100000], Loss: 0.000027\n",
      "Epoch [35000/100000], Loss: 0.000027\n",
      "Epoch [35100/100000], Loss: 0.000027\n",
      "Epoch [35200/100000], Loss: 0.000027\n",
      "Epoch [35300/100000], Loss: 0.000027\n",
      "Epoch [35400/100000], Loss: 0.000027\n",
      "Epoch [35500/100000], Loss: 0.000026\n",
      "Epoch [35600/100000], Loss: 0.000026\n",
      "Epoch [35700/100000], Loss: 0.000026\n",
      "Epoch [35800/100000], Loss: 0.000026\n",
      "Epoch [35900/100000], Loss: 0.000026\n",
      "Epoch [36000/100000], Loss: 0.000026\n",
      "Epoch [36100/100000], Loss: 0.000026\n",
      "Epoch [36200/100000], Loss: 0.000026\n",
      "Epoch [36300/100000], Loss: 0.000026\n",
      "Epoch [36400/100000], Loss: 0.000025\n",
      "Epoch [36500/100000], Loss: 0.000025\n",
      "Epoch [36600/100000], Loss: 0.000025\n",
      "Epoch [36700/100000], Loss: 0.000025\n",
      "Epoch [36800/100000], Loss: 0.000025\n",
      "Epoch [36900/100000], Loss: 0.000025\n",
      "Epoch [37000/100000], Loss: 0.000025\n",
      "Epoch [37100/100000], Loss: 0.000025\n",
      "Epoch [37200/100000], Loss: 0.000025\n",
      "Epoch [37300/100000], Loss: 0.000024\n",
      "Epoch [37400/100000], Loss: 0.000024\n",
      "Epoch [37500/100000], Loss: 0.000024\n",
      "Epoch [37600/100000], Loss: 0.000024\n",
      "Epoch [37700/100000], Loss: 0.000024\n",
      "Epoch [37800/100000], Loss: 0.000024\n",
      "Epoch [37900/100000], Loss: 0.000024\n",
      "Epoch [38000/100000], Loss: 0.000024\n",
      "Epoch [38100/100000], Loss: 0.000024\n",
      "Epoch [38200/100000], Loss: 0.000024\n",
      "Epoch [38300/100000], Loss: 0.000023\n",
      "Epoch [38400/100000], Loss: 0.000023\n",
      "Epoch [38500/100000], Loss: 0.000023\n",
      "Epoch [38600/100000], Loss: 0.000023\n",
      "Epoch [38700/100000], Loss: 0.000023\n",
      "Epoch [38800/100000], Loss: 0.000023\n",
      "Epoch [38900/100000], Loss: 0.000023\n",
      "Epoch [39000/100000], Loss: 0.000023\n",
      "Epoch [39100/100000], Loss: 0.000023\n",
      "Epoch [39200/100000], Loss: 0.000023\n",
      "Epoch [39300/100000], Loss: 0.000022\n",
      "Epoch [39400/100000], Loss: 0.000022\n",
      "Epoch [39500/100000], Loss: 0.000022\n",
      "Epoch [39600/100000], Loss: 0.000022\n",
      "Epoch [39700/100000], Loss: 0.000022\n",
      "Epoch [39800/100000], Loss: 0.000022\n",
      "Epoch [39900/100000], Loss: 0.000022\n",
      "Epoch [40000/100000], Loss: 0.000022\n",
      "Epoch [40100/100000], Loss: 0.000022\n",
      "Epoch [40200/100000], Loss: 0.000022\n",
      "Epoch [40300/100000], Loss: 0.000022\n",
      "Epoch [40400/100000], Loss: 0.000021\n",
      "Epoch [40500/100000], Loss: 0.000021\n",
      "Epoch [40600/100000], Loss: 0.000021\n",
      "Epoch [40700/100000], Loss: 0.000021\n",
      "Epoch [40800/100000], Loss: 0.000021\n",
      "Epoch [40900/100000], Loss: 0.000021\n",
      "Epoch [41000/100000], Loss: 0.000021\n",
      "Epoch [41100/100000], Loss: 0.000021\n",
      "Epoch [41200/100000], Loss: 0.000021\n",
      "Epoch [41300/100000], Loss: 0.000021\n",
      "Epoch [41400/100000], Loss: 0.000021\n",
      "Epoch [41500/100000], Loss: 0.000020\n",
      "Epoch [41600/100000], Loss: 0.000020\n",
      "Epoch [41700/100000], Loss: 0.000020\n",
      "Epoch [41800/100000], Loss: 0.000020\n",
      "Epoch [41900/100000], Loss: 0.000020\n",
      "Epoch [42000/100000], Loss: 0.000020\n",
      "Epoch [42100/100000], Loss: 0.000020\n",
      "Epoch [42200/100000], Loss: 0.000020\n",
      "Epoch [42300/100000], Loss: 0.000020\n",
      "Epoch [42400/100000], Loss: 0.000020\n",
      "Epoch [42500/100000], Loss: 0.000020\n",
      "Epoch [42600/100000], Loss: 0.000020\n",
      "Epoch [42700/100000], Loss: 0.000019\n",
      "Epoch [42800/100000], Loss: 0.000019\n",
      "Epoch [42900/100000], Loss: 0.000019\n",
      "Epoch [43000/100000], Loss: 0.000019\n",
      "Epoch [43100/100000], Loss: 0.000019\n",
      "Epoch [43200/100000], Loss: 0.000019\n",
      "Epoch [43300/100000], Loss: 0.000019\n",
      "Epoch [43400/100000], Loss: 0.000019\n",
      "Epoch [43500/100000], Loss: 0.000019\n",
      "Epoch [43600/100000], Loss: 0.000019\n",
      "Epoch [43700/100000], Loss: 0.000019\n",
      "Epoch [43800/100000], Loss: 0.000019\n",
      "Epoch [43900/100000], Loss: 0.000018\n",
      "Epoch [44000/100000], Loss: 0.000018\n",
      "Epoch [44100/100000], Loss: 0.000018\n",
      "Epoch [44200/100000], Loss: 0.000018\n",
      "Epoch [44300/100000], Loss: 0.000018\n",
      "Epoch [44400/100000], Loss: 0.000018\n",
      "Epoch [44500/100000], Loss: 0.000018\n",
      "Epoch [44600/100000], Loss: 0.000018\n",
      "Epoch [44700/100000], Loss: 0.000018\n",
      "Epoch [44800/100000], Loss: 0.000018\n",
      "Epoch [44900/100000], Loss: 0.000018\n",
      "Epoch [45000/100000], Loss: 0.000018\n",
      "Epoch [45100/100000], Loss: 0.000018\n",
      "Epoch [45200/100000], Loss: 0.000017\n",
      "Epoch [45300/100000], Loss: 0.000017\n",
      "Epoch [45400/100000], Loss: 0.000017\n",
      "Epoch [45500/100000], Loss: 0.000017\n",
      "Epoch [45600/100000], Loss: 0.000017\n",
      "Epoch [45700/100000], Loss: 0.000017\n",
      "Epoch [45800/100000], Loss: 0.000017\n",
      "Epoch [45900/100000], Loss: 0.000017\n",
      "Epoch [46000/100000], Loss: 0.000017\n"
     ]
    },
    {
     "name": "stdout",
     "output_type": "stream",
     "text": [
      "Epoch [46100/100000], Loss: 0.000017\n",
      "Epoch [46200/100000], Loss: 0.000017\n",
      "Epoch [46300/100000], Loss: 0.000017\n",
      "Epoch [46400/100000], Loss: 0.000017\n",
      "Epoch [46500/100000], Loss: 0.000017\n",
      "Epoch [46600/100000], Loss: 0.000016\n",
      "Epoch [46700/100000], Loss: 0.000016\n",
      "Epoch [46800/100000], Loss: 0.000016\n",
      "Epoch [46900/100000], Loss: 0.000016\n",
      "Epoch [47000/100000], Loss: 0.000016\n",
      "Epoch [47100/100000], Loss: 0.000016\n",
      "Epoch [47200/100000], Loss: 0.000016\n",
      "Epoch [47300/100000], Loss: 0.000016\n",
      "Epoch [47400/100000], Loss: 0.000016\n",
      "Epoch [47500/100000], Loss: 0.000016\n",
      "Epoch [47600/100000], Loss: 0.000016\n",
      "Epoch [47700/100000], Loss: 0.000016\n",
      "Epoch [47800/100000], Loss: 0.000016\n",
      "Epoch [47900/100000], Loss: 0.000016\n",
      "Epoch [48000/100000], Loss: 0.000016\n",
      "Epoch [48100/100000], Loss: 0.000015\n",
      "Epoch [48200/100000], Loss: 0.000015\n",
      "Epoch [48300/100000], Loss: 0.000015\n",
      "Epoch [48400/100000], Loss: 0.000015\n",
      "Epoch [48500/100000], Loss: 0.000015\n",
      "Epoch [48600/100000], Loss: 0.000015\n",
      "Epoch [48700/100000], Loss: 0.000015\n",
      "Epoch [48800/100000], Loss: 0.000015\n",
      "Epoch [48900/100000], Loss: 0.000015\n",
      "Epoch [49000/100000], Loss: 0.000015\n",
      "Epoch [49100/100000], Loss: 0.000015\n",
      "Epoch [49200/100000], Loss: 0.000015\n",
      "Epoch [49300/100000], Loss: 0.000015\n",
      "Epoch [49400/100000], Loss: 0.000015\n",
      "Epoch [49500/100000], Loss: 0.000015\n",
      "Epoch [49600/100000], Loss: 0.000015\n",
      "Epoch [49700/100000], Loss: 0.000014\n",
      "Epoch [49800/100000], Loss: 0.000014\n",
      "Epoch [49900/100000], Loss: 0.000014\n",
      "Epoch [50000/100000], Loss: 0.000014\n",
      "Epoch [50100/100000], Loss: 0.000014\n",
      "Epoch [50200/100000], Loss: 0.000014\n",
      "Epoch [50300/100000], Loss: 0.000014\n",
      "Epoch [50400/100000], Loss: 0.000014\n",
      "Epoch [50500/100000], Loss: 0.000014\n",
      "Epoch [50600/100000], Loss: 0.000014\n",
      "Epoch [50700/100000], Loss: 0.000014\n",
      "Epoch [50800/100000], Loss: 0.000014\n",
      "Epoch [50900/100000], Loss: 0.000014\n",
      "Epoch [51000/100000], Loss: 0.000014\n",
      "Epoch [51100/100000], Loss: 0.000014\n",
      "Epoch [51200/100000], Loss: 0.000014\n",
      "Epoch [51300/100000], Loss: 0.000014\n",
      "Epoch [51400/100000], Loss: 0.000013\n",
      "Epoch [51500/100000], Loss: 0.000013\n",
      "Epoch [51600/100000], Loss: 0.000013\n",
      "Epoch [51700/100000], Loss: 0.000013\n",
      "Epoch [51800/100000], Loss: 0.000013\n",
      "Epoch [51900/100000], Loss: 0.000013\n",
      "Epoch [52000/100000], Loss: 0.000013\n",
      "Epoch [52100/100000], Loss: 0.000013\n",
      "Epoch [52200/100000], Loss: 0.000013\n",
      "Epoch [52300/100000], Loss: 0.000013\n",
      "Epoch [52400/100000], Loss: 0.000013\n",
      "Epoch [52500/100000], Loss: 0.000013\n",
      "Epoch [52600/100000], Loss: 0.000013\n",
      "Epoch [52700/100000], Loss: 0.000013\n",
      "Epoch [52800/100000], Loss: 0.000013\n",
      "Epoch [52900/100000], Loss: 0.000013\n",
      "Epoch [53000/100000], Loss: 0.000013\n",
      "Epoch [53100/100000], Loss: 0.000013\n",
      "Epoch [53200/100000], Loss: 0.000012\n",
      "Epoch [53300/100000], Loss: 0.000012\n",
      "Epoch [53400/100000], Loss: 0.000012\n",
      "Epoch [53500/100000], Loss: 0.000012\n",
      "Epoch [53600/100000], Loss: 0.000012\n",
      "Epoch [53700/100000], Loss: 0.000012\n",
      "Epoch [53800/100000], Loss: 0.000012\n",
      "Epoch [53900/100000], Loss: 0.000012\n",
      "Epoch [54000/100000], Loss: 0.000012\n",
      "Epoch [54100/100000], Loss: 0.000012\n",
      "Epoch [54200/100000], Loss: 0.000012\n",
      "Epoch [54300/100000], Loss: 0.000012\n",
      "Epoch [54400/100000], Loss: 0.000012\n",
      "Epoch [54500/100000], Loss: 0.000012\n",
      "Epoch [54600/100000], Loss: 0.000012\n",
      "Epoch [54700/100000], Loss: 0.000012\n",
      "Epoch [54800/100000], Loss: 0.000012\n",
      "Epoch [54900/100000], Loss: 0.000012\n",
      "Epoch [55000/100000], Loss: 0.000012\n",
      "Epoch [55100/100000], Loss: 0.000011\n",
      "Epoch [55200/100000], Loss: 0.000011\n",
      "Epoch [55300/100000], Loss: 0.000011\n",
      "Epoch [55400/100000], Loss: 0.000011\n",
      "Epoch [55500/100000], Loss: 0.000011\n",
      "Epoch [55600/100000], Loss: 0.000011\n",
      "Epoch [55700/100000], Loss: 0.000011\n",
      "Epoch [55800/100000], Loss: 0.000011\n",
      "Epoch [55900/100000], Loss: 0.000011\n",
      "Epoch [56000/100000], Loss: 0.000011\n",
      "Epoch [56100/100000], Loss: 0.000011\n",
      "Epoch [56200/100000], Loss: 0.000011\n",
      "Epoch [56300/100000], Loss: 0.000011\n",
      "Epoch [56400/100000], Loss: 0.000011\n",
      "Epoch [56500/100000], Loss: 0.000011\n",
      "Epoch [56600/100000], Loss: 0.000011\n",
      "Epoch [56700/100000], Loss: 0.000011\n",
      "Epoch [56800/100000], Loss: 0.000011\n",
      "Epoch [56900/100000], Loss: 0.000011\n",
      "Epoch [57000/100000], Loss: 0.000011\n",
      "Epoch [57100/100000], Loss: 0.000011\n",
      "Epoch [57200/100000], Loss: 0.000011\n",
      "Epoch [57300/100000], Loss: 0.000010\n",
      "Epoch [57400/100000], Loss: 0.000010\n",
      "Epoch [57500/100000], Loss: 0.000010\n",
      "Epoch [57600/100000], Loss: 0.000010\n",
      "Epoch [57700/100000], Loss: 0.000010\n",
      "Epoch [57800/100000], Loss: 0.000010\n",
      "Epoch [57900/100000], Loss: 0.000010\n",
      "Epoch [58000/100000], Loss: 0.000010\n",
      "Epoch [58100/100000], Loss: 0.000010\n",
      "Epoch [58200/100000], Loss: 0.000010\n",
      "Epoch [58300/100000], Loss: 0.000010\n",
      "Epoch [58400/100000], Loss: 0.000010\n",
      "Epoch [58500/100000], Loss: 0.000010\n",
      "Epoch [58600/100000], Loss: 0.000010\n",
      "Epoch [58700/100000], Loss: 0.000010\n",
      "Epoch [58800/100000], Loss: 0.000010\n",
      "Epoch [58900/100000], Loss: 0.000010\n",
      "Epoch [59000/100000], Loss: 0.000010\n",
      "Epoch [59100/100000], Loss: 0.000010\n",
      "Epoch [59200/100000], Loss: 0.000010\n",
      "Epoch [59300/100000], Loss: 0.000010\n",
      "Epoch [59400/100000], Loss: 0.000010\n",
      "Epoch [59500/100000], Loss: 0.000010\n",
      "Epoch [59600/100000], Loss: 0.000009\n",
      "Epoch [59700/100000], Loss: 0.000009\n",
      "Epoch [59800/100000], Loss: 0.000009\n",
      "Epoch [59900/100000], Loss: 0.000009\n",
      "Epoch [60000/100000], Loss: 0.000009\n",
      "Epoch [60100/100000], Loss: 0.000009\n",
      "Epoch [60200/100000], Loss: 0.000009\n",
      "Epoch [60300/100000], Loss: 0.000009\n",
      "Epoch [60400/100000], Loss: 0.000009\n",
      "Epoch [60500/100000], Loss: 0.000009\n",
      "Epoch [60600/100000], Loss: 0.000009\n",
      "Epoch [60700/100000], Loss: 0.000009\n",
      "Epoch [60800/100000], Loss: 0.000009\n",
      "Epoch [60900/100000], Loss: 0.000009\n",
      "Epoch [61000/100000], Loss: 0.000009\n",
      "Epoch [61100/100000], Loss: 0.000009\n",
      "Epoch [61200/100000], Loss: 0.000009\n",
      "Epoch [61300/100000], Loss: 0.000009\n",
      "Epoch [61400/100000], Loss: 0.000009\n",
      "Epoch [61500/100000], Loss: 0.000009\n",
      "Epoch [61600/100000], Loss: 0.000009\n",
      "Epoch [61700/100000], Loss: 0.000009\n",
      "Epoch [61800/100000], Loss: 0.000009\n",
      "Epoch [61900/100000], Loss: 0.000009\n",
      "Epoch [62000/100000], Loss: 0.000009\n",
      "Epoch [62100/100000], Loss: 0.000009\n",
      "Epoch [62200/100000], Loss: 0.000008\n",
      "Epoch [62300/100000], Loss: 0.000008\n",
      "Epoch [62400/100000], Loss: 0.000008\n",
      "Epoch [62500/100000], Loss: 0.000008\n",
      "Epoch [62600/100000], Loss: 0.000008\n",
      "Epoch [62700/100000], Loss: 0.000008\n",
      "Epoch [62800/100000], Loss: 0.000008\n",
      "Epoch [62900/100000], Loss: 0.000008\n",
      "Epoch [63000/100000], Loss: 0.000008\n",
      "Epoch [63100/100000], Loss: 0.000008\n",
      "Epoch [63200/100000], Loss: 0.000008\n",
      "Epoch [63300/100000], Loss: 0.000008\n",
      "Epoch [63400/100000], Loss: 0.000008\n",
      "Epoch [63500/100000], Loss: 0.000008\n",
      "Epoch [63600/100000], Loss: 0.000008\n",
      "Epoch [63700/100000], Loss: 0.000008\n",
      "Epoch [63800/100000], Loss: 0.000008\n",
      "Epoch [63900/100000], Loss: 0.000008\n",
      "Epoch [64000/100000], Loss: 0.000008\n",
      "Epoch [64100/100000], Loss: 0.000008\n",
      "Epoch [64200/100000], Loss: 0.000008\n",
      "Epoch [64300/100000], Loss: 0.000008\n",
      "Epoch [64400/100000], Loss: 0.000008\n",
      "Epoch [64500/100000], Loss: 0.000008\n",
      "Epoch [64600/100000], Loss: 0.000008\n",
      "Epoch [64700/100000], Loss: 0.000008\n",
      "Epoch [64800/100000], Loss: 0.000008\n",
      "Epoch [64900/100000], Loss: 0.000008\n",
      "Epoch [65000/100000], Loss: 0.000008\n",
      "Epoch [65100/100000], Loss: 0.000008\n",
      "Epoch [65200/100000], Loss: 0.000007\n",
      "Epoch [65300/100000], Loss: 0.000007\n",
      "Epoch [65400/100000], Loss: 0.000007\n",
      "Epoch [65500/100000], Loss: 0.000007\n",
      "Epoch [65600/100000], Loss: 0.000007\n",
      "Epoch [65700/100000], Loss: 0.000007\n",
      "Epoch [65800/100000], Loss: 0.000007\n",
      "Epoch [65900/100000], Loss: 0.000007\n",
      "Epoch [66000/100000], Loss: 0.000007\n",
      "Epoch [66100/100000], Loss: 0.000007\n",
      "Epoch [66200/100000], Loss: 0.000007\n",
      "Epoch [66300/100000], Loss: 0.000007\n",
      "Epoch [66400/100000], Loss: 0.000007\n",
      "Epoch [66500/100000], Loss: 0.000007\n",
      "Epoch [66600/100000], Loss: 0.000007\n",
      "Epoch [66700/100000], Loss: 0.000007\n",
      "Epoch [66800/100000], Loss: 0.000007\n",
      "Epoch [66900/100000], Loss: 0.000007\n",
      "Epoch [67000/100000], Loss: 0.000007\n",
      "Epoch [67100/100000], Loss: 0.000007\n",
      "Epoch [67200/100000], Loss: 0.000007\n",
      "Epoch [67300/100000], Loss: 0.000007\n",
      "Epoch [67400/100000], Loss: 0.000007\n",
      "Epoch [67500/100000], Loss: 0.000007\n",
      "Epoch [67600/100000], Loss: 0.000007\n",
      "Epoch [67700/100000], Loss: 0.000007\n",
      "Epoch [67800/100000], Loss: 0.000007\n",
      "Epoch [67900/100000], Loss: 0.000007\n",
      "Epoch [68000/100000], Loss: 0.000007\n",
      "Epoch [68100/100000], Loss: 0.000007\n",
      "Epoch [68200/100000], Loss: 0.000007\n",
      "Epoch [68300/100000], Loss: 0.000007\n"
     ]
    },
    {
     "name": "stdout",
     "output_type": "stream",
     "text": [
      "Epoch [68400/100000], Loss: 0.000007\n",
      "Epoch [68500/100000], Loss: 0.000007\n",
      "Epoch [68600/100000], Loss: 0.000006\n",
      "Epoch [68700/100000], Loss: 0.000006\n",
      "Epoch [68800/100000], Loss: 0.000006\n",
      "Epoch [68900/100000], Loss: 0.000006\n",
      "Epoch [69000/100000], Loss: 0.000006\n",
      "Epoch [69100/100000], Loss: 0.000006\n",
      "Epoch [69200/100000], Loss: 0.000006\n",
      "Epoch [69300/100000], Loss: 0.000006\n",
      "Epoch [69400/100000], Loss: 0.000006\n",
      "Epoch [69500/100000], Loss: 0.000006\n",
      "Epoch [69600/100000], Loss: 0.000006\n",
      "Epoch [69700/100000], Loss: 0.000006\n",
      "Epoch [69800/100000], Loss: 0.000006\n",
      "Epoch [69900/100000], Loss: 0.000006\n",
      "Epoch [70000/100000], Loss: 0.000006\n",
      "Epoch [70100/100000], Loss: 0.000006\n",
      "Epoch [70200/100000], Loss: 0.000006\n",
      "Epoch [70300/100000], Loss: 0.000006\n",
      "Epoch [70400/100000], Loss: 0.000006\n",
      "Epoch [70500/100000], Loss: 0.000006\n",
      "Epoch [70600/100000], Loss: 0.000006\n",
      "Epoch [70700/100000], Loss: 0.000006\n",
      "Epoch [70800/100000], Loss: 0.000006\n",
      "Epoch [70900/100000], Loss: 0.000006\n",
      "Epoch [71000/100000], Loss: 0.000006\n",
      "Epoch [71100/100000], Loss: 0.000006\n",
      "Epoch [71200/100000], Loss: 0.000006\n",
      "Epoch [71300/100000], Loss: 0.000006\n",
      "Epoch [71400/100000], Loss: 0.000006\n",
      "Epoch [71500/100000], Loss: 0.000006\n",
      "Epoch [71600/100000], Loss: 0.000006\n",
      "Epoch [71700/100000], Loss: 0.000006\n",
      "Epoch [71800/100000], Loss: 0.000006\n",
      "Epoch [71900/100000], Loss: 0.000006\n",
      "Epoch [72000/100000], Loss: 0.000006\n",
      "Epoch [72100/100000], Loss: 0.000006\n",
      "Epoch [72200/100000], Loss: 0.000006\n",
      "Epoch [72300/100000], Loss: 0.000006\n",
      "Epoch [72400/100000], Loss: 0.000006\n",
      "Epoch [72500/100000], Loss: 0.000005\n",
      "Epoch [72600/100000], Loss: 0.000005\n",
      "Epoch [72700/100000], Loss: 0.000005\n",
      "Epoch [72800/100000], Loss: 0.000005\n",
      "Epoch [72900/100000], Loss: 0.000005\n",
      "Epoch [73000/100000], Loss: 0.000005\n",
      "Epoch [73100/100000], Loss: 0.000005\n",
      "Epoch [73200/100000], Loss: 0.000005\n",
      "Epoch [73300/100000], Loss: 0.000005\n",
      "Epoch [73400/100000], Loss: 0.000005\n",
      "Epoch [73500/100000], Loss: 0.000005\n",
      "Epoch [73600/100000], Loss: 0.000005\n",
      "Epoch [73700/100000], Loss: 0.000005\n",
      "Epoch [73800/100000], Loss: 0.000005\n",
      "Epoch [73900/100000], Loss: 0.000005\n",
      "Epoch [74000/100000], Loss: 0.000005\n",
      "Epoch [74100/100000], Loss: 0.000005\n",
      "Epoch [74200/100000], Loss: 0.000005\n",
      "Epoch [74300/100000], Loss: 0.000005\n",
      "Epoch [74400/100000], Loss: 0.000005\n",
      "Epoch [74500/100000], Loss: 0.000005\n",
      "Epoch [74600/100000], Loss: 0.000005\n",
      "Epoch [74700/100000], Loss: 0.000005\n",
      "Epoch [74800/100000], Loss: 0.000005\n",
      "Epoch [74900/100000], Loss: 0.000005\n",
      "Epoch [75000/100000], Loss: 0.000005\n",
      "Epoch [75100/100000], Loss: 0.000005\n",
      "Epoch [75200/100000], Loss: 0.000005\n",
      "Epoch [75300/100000], Loss: 0.000005\n",
      "Epoch [75400/100000], Loss: 0.000005\n",
      "Epoch [75500/100000], Loss: 0.000005\n",
      "Epoch [75600/100000], Loss: 0.000005\n",
      "Epoch [75700/100000], Loss: 0.000005\n",
      "Epoch [75800/100000], Loss: 0.000005\n",
      "Epoch [75900/100000], Loss: 0.000005\n",
      "Epoch [76000/100000], Loss: 0.000005\n",
      "Epoch [76100/100000], Loss: 0.000005\n",
      "Epoch [76200/100000], Loss: 0.000005\n",
      "Epoch [76300/100000], Loss: 0.000005\n",
      "Epoch [76400/100000], Loss: 0.000005\n",
      "Epoch [76500/100000], Loss: 0.000005\n",
      "Epoch [76600/100000], Loss: 0.000005\n",
      "Epoch [76700/100000], Loss: 0.000005\n",
      "Epoch [76800/100000], Loss: 0.000005\n",
      "Epoch [76900/100000], Loss: 0.000005\n",
      "Epoch [77000/100000], Loss: 0.000005\n",
      "Epoch [77100/100000], Loss: 0.000005\n",
      "Epoch [77200/100000], Loss: 0.000004\n",
      "Epoch [77300/100000], Loss: 0.000004\n",
      "Epoch [77400/100000], Loss: 0.000004\n",
      "Epoch [77500/100000], Loss: 0.000004\n",
      "Epoch [77600/100000], Loss: 0.000004\n",
      "Epoch [77700/100000], Loss: 0.000004\n",
      "Epoch [77800/100000], Loss: 0.000004\n",
      "Epoch [77900/100000], Loss: 0.000004\n",
      "Epoch [78000/100000], Loss: 0.000004\n",
      "Epoch [78100/100000], Loss: 0.000004\n",
      "Epoch [78200/100000], Loss: 0.000004\n",
      "Epoch [78300/100000], Loss: 0.000004\n",
      "Epoch [78400/100000], Loss: 0.000004\n",
      "Epoch [78500/100000], Loss: 0.000004\n",
      "Epoch [78600/100000], Loss: 0.000004\n",
      "Epoch [78700/100000], Loss: 0.000004\n",
      "Epoch [78800/100000], Loss: 0.000004\n",
      "Epoch [78900/100000], Loss: 0.000004\n",
      "Epoch [79000/100000], Loss: 0.000004\n",
      "Epoch [79100/100000], Loss: 0.000004\n",
      "Epoch [79200/100000], Loss: 0.000004\n",
      "Epoch [79300/100000], Loss: 0.000004\n",
      "Epoch [79400/100000], Loss: 0.000004\n",
      "Epoch [79500/100000], Loss: 0.000004\n",
      "Epoch [79600/100000], Loss: 0.000004\n",
      "Epoch [79700/100000], Loss: 0.000004\n",
      "Epoch [79800/100000], Loss: 0.000004\n",
      "Epoch [79900/100000], Loss: 0.000004\n",
      "Epoch [80000/100000], Loss: 0.000004\n",
      "Epoch [80100/100000], Loss: 0.000004\n",
      "Epoch [80200/100000], Loss: 0.000004\n",
      "Epoch [80300/100000], Loss: 0.000004\n",
      "Epoch [80400/100000], Loss: 0.000004\n",
      "Epoch [80500/100000], Loss: 0.000004\n",
      "Epoch [80600/100000], Loss: 0.000004\n",
      "Epoch [80700/100000], Loss: 0.000004\n",
      "Epoch [80800/100000], Loss: 0.000004\n",
      "Epoch [80900/100000], Loss: 0.000004\n",
      "Epoch [81000/100000], Loss: 0.000004\n",
      "Epoch [81100/100000], Loss: 0.000004\n",
      "Epoch [81200/100000], Loss: 0.000004\n",
      "Epoch [81300/100000], Loss: 0.000004\n",
      "Epoch [81400/100000], Loss: 0.000004\n",
      "Epoch [81500/100000], Loss: 0.000004\n",
      "Epoch [81600/100000], Loss: 0.000004\n",
      "Epoch [81700/100000], Loss: 0.000004\n",
      "Epoch [81800/100000], Loss: 0.000004\n",
      "Epoch [81900/100000], Loss: 0.000004\n",
      "Epoch [82000/100000], Loss: 0.000004\n",
      "Epoch [82100/100000], Loss: 0.000004\n",
      "Epoch [82200/100000], Loss: 0.000004\n",
      "Epoch [82300/100000], Loss: 0.000004\n",
      "Epoch [82400/100000], Loss: 0.000004\n",
      "Epoch [82500/100000], Loss: 0.000004\n",
      "Epoch [82600/100000], Loss: 0.000004\n",
      "Epoch [82700/100000], Loss: 0.000004\n",
      "Epoch [82800/100000], Loss: 0.000004\n",
      "Epoch [82900/100000], Loss: 0.000004\n",
      "Epoch [83000/100000], Loss: 0.000004\n",
      "Epoch [83100/100000], Loss: 0.000004\n",
      "Epoch [83200/100000], Loss: 0.000003\n",
      "Epoch [83300/100000], Loss: 0.000003\n",
      "Epoch [83400/100000], Loss: 0.000003\n",
      "Epoch [83500/100000], Loss: 0.000003\n",
      "Epoch [83600/100000], Loss: 0.000003\n",
      "Epoch [83700/100000], Loss: 0.000003\n",
      "Epoch [83800/100000], Loss: 0.000003\n",
      "Epoch [83900/100000], Loss: 0.000003\n",
      "Epoch [84000/100000], Loss: 0.000003\n",
      "Epoch [84100/100000], Loss: 0.000003\n",
      "Epoch [84200/100000], Loss: 0.000003\n",
      "Epoch [84300/100000], Loss: 0.000003\n",
      "Epoch [84400/100000], Loss: 0.000003\n",
      "Epoch [84500/100000], Loss: 0.000003\n",
      "Epoch [84600/100000], Loss: 0.000003\n",
      "Epoch [84700/100000], Loss: 0.000003\n",
      "Epoch [84800/100000], Loss: 0.000003\n",
      "Epoch [84900/100000], Loss: 0.000003\n",
      "Epoch [85000/100000], Loss: 0.000003\n",
      "Epoch [85100/100000], Loss: 0.000003\n",
      "Epoch [85200/100000], Loss: 0.000003\n",
      "Epoch [85300/100000], Loss: 0.000003\n",
      "Epoch [85400/100000], Loss: 0.000003\n",
      "Epoch [85500/100000], Loss: 0.000003\n",
      "Epoch [85600/100000], Loss: 0.000003\n",
      "Epoch [85700/100000], Loss: 0.000003\n",
      "Epoch [85800/100000], Loss: 0.000003\n",
      "Epoch [85900/100000], Loss: 0.000003\n",
      "Epoch [86000/100000], Loss: 0.000003\n",
      "Epoch [86100/100000], Loss: 0.000003\n",
      "Epoch [86200/100000], Loss: 0.000003\n",
      "Epoch [86300/100000], Loss: 0.000003\n",
      "Epoch [86400/100000], Loss: 0.000003\n",
      "Epoch [86500/100000], Loss: 0.000003\n",
      "Epoch [86600/100000], Loss: 0.000003\n",
      "Epoch [86700/100000], Loss: 0.000003\n",
      "Epoch [86800/100000], Loss: 0.000003\n",
      "Epoch [86900/100000], Loss: 0.000003\n",
      "Epoch [87000/100000], Loss: 0.000003\n",
      "Epoch [87100/100000], Loss: 0.000003\n",
      "Epoch [87200/100000], Loss: 0.000003\n",
      "Epoch [87300/100000], Loss: 0.000003\n",
      "Epoch [87400/100000], Loss: 0.000003\n",
      "Epoch [87500/100000], Loss: 0.000003\n",
      "Epoch [87600/100000], Loss: 0.000003\n",
      "Epoch [87700/100000], Loss: 0.000003\n",
      "Epoch [87800/100000], Loss: 0.000003\n",
      "Epoch [87900/100000], Loss: 0.000003\n",
      "Epoch [88000/100000], Loss: 0.000003\n",
      "Epoch [88100/100000], Loss: 0.000003\n",
      "Epoch [88200/100000], Loss: 0.000003\n",
      "Epoch [88300/100000], Loss: 0.000003\n",
      "Epoch [88400/100000], Loss: 0.000003\n",
      "Epoch [88500/100000], Loss: 0.000003\n",
      "Epoch [88600/100000], Loss: 0.000003\n",
      "Epoch [88700/100000], Loss: 0.000003\n",
      "Epoch [88800/100000], Loss: 0.000003\n",
      "Epoch [88900/100000], Loss: 0.000003\n",
      "Epoch [89000/100000], Loss: 0.000003\n",
      "Epoch [89100/100000], Loss: 0.000003\n",
      "Epoch [89200/100000], Loss: 0.000003\n",
      "Epoch [89300/100000], Loss: 0.000003\n",
      "Epoch [89400/100000], Loss: 0.000003\n",
      "Epoch [89500/100000], Loss: 0.000003\n",
      "Epoch [89600/100000], Loss: 0.000003\n",
      "Epoch [89700/100000], Loss: 0.000003\n",
      "Epoch [89800/100000], Loss: 0.000003\n",
      "Epoch [89900/100000], Loss: 0.000003\n",
      "Epoch [90000/100000], Loss: 0.000003\n",
      "Epoch [90100/100000], Loss: 0.000003\n",
      "Epoch [90200/100000], Loss: 0.000003\n",
      "Epoch [90300/100000], Loss: 0.000003\n",
      "Epoch [90400/100000], Loss: 0.000003\n",
      "Epoch [90500/100000], Loss: 0.000003\n",
      "Epoch [90600/100000], Loss: 0.000003\n",
      "Epoch [90700/100000], Loss: 0.000003\n",
      "Epoch [90800/100000], Loss: 0.000003\n",
      "Epoch [90900/100000], Loss: 0.000003\n",
      "Epoch [91000/100000], Loss: 0.000003\n"
     ]
    },
    {
     "name": "stdout",
     "output_type": "stream",
     "text": [
      "Epoch [91100/100000], Loss: 0.000002\n",
      "Epoch [91200/100000], Loss: 0.000002\n",
      "Epoch [91300/100000], Loss: 0.000002\n",
      "Epoch [91400/100000], Loss: 0.000002\n",
      "Epoch [91500/100000], Loss: 0.000002\n",
      "Epoch [91600/100000], Loss: 0.000002\n",
      "Epoch [91700/100000], Loss: 0.000002\n",
      "Epoch [91800/100000], Loss: 0.000002\n",
      "Epoch [91900/100000], Loss: 0.000002\n",
      "Epoch [92000/100000], Loss: 0.000002\n",
      "Epoch [92100/100000], Loss: 0.000002\n",
      "Epoch [92200/100000], Loss: 0.000002\n",
      "Epoch [92300/100000], Loss: 0.000002\n",
      "Epoch [92400/100000], Loss: 0.000002\n",
      "Epoch [92500/100000], Loss: 0.000002\n",
      "Epoch [92600/100000], Loss: 0.000002\n",
      "Epoch [92700/100000], Loss: 0.000002\n",
      "Epoch [92800/100000], Loss: 0.000002\n",
      "Epoch [92900/100000], Loss: 0.000002\n",
      "Epoch [93000/100000], Loss: 0.000002\n",
      "Epoch [93100/100000], Loss: 0.000002\n",
      "Epoch [93200/100000], Loss: 0.000002\n",
      "Epoch [93300/100000], Loss: 0.000002\n",
      "Epoch [93400/100000], Loss: 0.000002\n",
      "Epoch [93500/100000], Loss: 0.000002\n",
      "Epoch [93600/100000], Loss: 0.000002\n",
      "Epoch [93700/100000], Loss: 0.000002\n",
      "Epoch [93800/100000], Loss: 0.000002\n",
      "Epoch [93900/100000], Loss: 0.000002\n",
      "Epoch [94000/100000], Loss: 0.000002\n",
      "Epoch [94100/100000], Loss: 0.000002\n",
      "Epoch [94200/100000], Loss: 0.000002\n",
      "Epoch [94300/100000], Loss: 0.000002\n",
      "Epoch [94400/100000], Loss: 0.000002\n",
      "Epoch [94500/100000], Loss: 0.000002\n",
      "Epoch [94600/100000], Loss: 0.000002\n",
      "Epoch [94700/100000], Loss: 0.000002\n",
      "Epoch [94800/100000], Loss: 0.000002\n",
      "Epoch [94900/100000], Loss: 0.000002\n",
      "Epoch [95000/100000], Loss: 0.000002\n",
      "Epoch [95100/100000], Loss: 0.000002\n",
      "Epoch [95200/100000], Loss: 0.000002\n",
      "Epoch [95300/100000], Loss: 0.000002\n",
      "Epoch [95400/100000], Loss: 0.000002\n",
      "Epoch [95500/100000], Loss: 0.000002\n",
      "Epoch [95600/100000], Loss: 0.000002\n",
      "Epoch [95700/100000], Loss: 0.000002\n",
      "Epoch [95800/100000], Loss: 0.000002\n",
      "Epoch [95900/100000], Loss: 0.000002\n",
      "Epoch [96000/100000], Loss: 0.000002\n",
      "Epoch [96100/100000], Loss: 0.000002\n",
      "Epoch [96200/100000], Loss: 0.000002\n",
      "Epoch [96300/100000], Loss: 0.000002\n",
      "Epoch [96400/100000], Loss: 0.000002\n",
      "Epoch [96500/100000], Loss: 0.000002\n",
      "Epoch [96600/100000], Loss: 0.000002\n",
      "Epoch [96700/100000], Loss: 0.000002\n",
      "Epoch [96800/100000], Loss: 0.000002\n",
      "Epoch [96900/100000], Loss: 0.000002\n",
      "Epoch [97000/100000], Loss: 0.000002\n",
      "Epoch [97100/100000], Loss: 0.000002\n",
      "Epoch [97200/100000], Loss: 0.000002\n",
      "Epoch [97300/100000], Loss: 0.000002\n",
      "Epoch [97400/100000], Loss: 0.000002\n",
      "Epoch [97500/100000], Loss: 0.000002\n",
      "Epoch [97600/100000], Loss: 0.000002\n",
      "Epoch [97700/100000], Loss: 0.000002\n",
      "Epoch [97800/100000], Loss: 0.000002\n",
      "Epoch [97900/100000], Loss: 0.000002\n",
      "Epoch [98000/100000], Loss: 0.000002\n",
      "Epoch [98100/100000], Loss: 0.000002\n",
      "Epoch [98200/100000], Loss: 0.000002\n",
      "Epoch [98300/100000], Loss: 0.000002\n",
      "Epoch [98400/100000], Loss: 0.000002\n",
      "Epoch [98500/100000], Loss: 0.000002\n",
      "Epoch [98600/100000], Loss: 0.000002\n",
      "Epoch [98700/100000], Loss: 0.000002\n",
      "Epoch [98800/100000], Loss: 0.000002\n",
      "Epoch [98900/100000], Loss: 0.000002\n",
      "Epoch [99000/100000], Loss: 0.000002\n",
      "Epoch [99100/100000], Loss: 0.000002\n",
      "Epoch [99200/100000], Loss: 0.000002\n",
      "Epoch [99300/100000], Loss: 0.000002\n",
      "Epoch [99400/100000], Loss: 0.000002\n",
      "Epoch [99500/100000], Loss: 0.000002\n",
      "Epoch [99600/100000], Loss: 0.000002\n",
      "Epoch [99700/100000], Loss: 0.000002\n",
      "Epoch [99800/100000], Loss: 0.000002\n",
      "Epoch [99900/100000], Loss: 0.000002\n",
      "Epoch [100000/100000], Loss: 0.000002\n"
     ]
    }
   ],
   "source": [
    "import torch\n",
    "import torch.optim as optim\n",
    "\n",
    "# Simulated data\n",
    "# Generate some random data for x and compute y=3 * x**3 + 2 * x**2 - 4 * x + 1\n",
    "torch.manual_seed(42)\n",
    "x = torch.rand(100, 1)\n",
    "y = 3 * x**3 + 2 * x**2 - 4 * x + 1 \n",
    "\n",
    "x_input=torch.hstack([x*x*x,x*x,x])\n",
    "\n",
    "# Define the linear regression model\n",
    "class LinearRegressionModel(torch.nn.Module):\n",
    "    def __init__(self):\n",
    "        super(LinearRegressionModel, self).__init__()\n",
    "        # 3 input feature, one output\n",
    "        self.linear = torch.nn.Linear(3, 1)  \n",
    "\n",
    "    def forward(self, x):\n",
    "        return self.linear(x)\n",
    "\n",
    "# Create the model\n",
    "model = LinearRegressionModel()\n",
    "\n",
    "# Loss function (Mean Squared Error)\n",
    "criterion = torch.nn.MSELoss()\n",
    "\n",
    "# Optimizer (Stochastic Gradient Descent)\n",
    "optimizer = optim.SGD(model.parameters(), lr=0.11)\n",
    "\n",
    "# Training loop\n",
    "num_epochs = 100000\n",
    "for epoch in range(num_epochs):\n",
    "    # Forward pass\n",
    "    outputs=model(x_input)\n",
    "\n",
    "    \n",
    "    # Compute the loss\n",
    "    loss = criterion(outputs, y)\n",
    "    \n",
    "    # Backpropagation and optimization\n",
    "    optimizer.zero_grad()\n",
    "    loss.backward()\n",
    "    optimizer.step()\n",
    "\n",
    "    # Print the loss every 100 epochs\n",
    "    if (epoch + 1) % 100 == 0:\n",
    "        print(f'Epoch [{epoch + 1}/{num_epochs}], Loss: {loss.item():.6f}')\n",
    "\n",
    "\n"
   ]
  },
  {
   "cell_type": "code",
   "execution_count": 278,
   "metadata": {},
   "outputs": [
    {
     "name": "stdout",
     "output_type": "stream",
     "text": [
      "Parameter containing:\n",
      "tensor([3.0865], requires_grad=True)\n",
      "Parameter containing:\n",
      "tensor([1.8666], requires_grad=True)\n",
      "Parameter containing:\n",
      "tensor([-3.9438], requires_grad=True)\n",
      "Parameter containing:\n",
      "tensor([0.9947], requires_grad=True)\n"
     ]
    }
   ],
   "source": [
    "for i in model.parameters():\n",
    "    print(i)"
   ]
  },
  {
   "cell_type": "code",
   "execution_count": 204,
   "metadata": {},
   "outputs": [
    {
     "name": "stdout",
     "output_type": "stream",
     "text": [
      "Weight: Parameter containing:\n",
      "tensor([[ 3.0682,  1.8947, -3.9557]], requires_grad=True)\n",
      "Bias Parameter containing:\n",
      "tensor([0.9958], requires_grad=True)\n"
     ]
    }
   ],
   "source": [
    "# Print the learned parameters (a and b)\n",
    "with torch.no_grad():\n",
    "    W, b = model.linear.weight,model.linear.bias\n",
    "    print('Weight:',W)\n",
    "    print('Bias',b)"
   ]
  },
  {
   "cell_type": "markdown",
   "metadata": {},
   "source": [
    "# Optimizers Demo"
   ]
  },
  {
   "cell_type": "code",
   "execution_count": 216,
   "metadata": {},
   "outputs": [],
   "source": [
    "import torch\n",
    "import torch.optim as optim\n",
    "\n",
    "# Simulated data\n",
    "# Generate some random data for x and compute y=3 * x**3 + 2 * x**2 - 4 * x + 1\n",
    "torch.manual_seed(42)\n",
    "x = torch.rand(100, 1)\n",
    "y = 3 * x**3 + 2 * x**2 - 4 * x + 1 \n",
    "\n",
    "x_input=torch.hstack([x*x*x,x*x,x])"
   ]
  },
  {
   "cell_type": "code",
   "execution_count": 243,
   "metadata": {},
   "outputs": [],
   "source": [
    "\n",
    "\n",
    "# Define the linear regression model\n",
    "class LinearRegressionModel(torch.nn.Module):\n",
    "    def __init__(self):\n",
    "        super(LinearRegressionModel, self).__init__()\n",
    "        # 3 input feature, one output\n",
    "        self.linear = torch.nn.Linear(3, 1)  \n",
    "\n",
    "    def forward(self, x):\n",
    "        return self.linear(x)\n",
    "\n"
   ]
  },
  {
   "cell_type": "code",
   "execution_count": 244,
   "metadata": {},
   "outputs": [],
   "source": [
    "num_epochs = 10000"
   ]
  },
  {
   "cell_type": "markdown",
   "metadata": {},
   "source": [
    "# Stochastic Gradient Descent (SGD):"
   ]
  },
  {
   "cell_type": "code",
   "execution_count": 255,
   "metadata": {},
   "outputs": [
    {
     "data": {
      "text/plain": [
       "[<matplotlib.lines.Line2D at 0x7f9aebe2b730>]"
      ]
     },
     "execution_count": 255,
     "metadata": {},
     "output_type": "execute_result"
    },
    {
     "data": {
      "image/png": "[encoded data removed]",
      "text/plain": [
       "<Figure size 432x288 with 1 Axes>"
      ]
     },
     "metadata": {
      "needs_background": "light"
     },
     "output_type": "display_data"
    }
   ],
   "source": [
    "# Optimizer (SGD)\n",
    "optimizer_sgd = optim.SGD(model_for_SGD.parameters(), lr=0.01)\n",
    "\n",
    "# Training loop\n",
    "losses_sgd = []\n",
    "for epoch in range(num_epochs):\n",
    "    optimizer_sgd.zero_grad()\n",
    "    outputs = model_for_SGD(x_input)\n",
    "    loss = criterion(outputs, y)\n",
    "    loss.backward()\n",
    "    optimizer_sgd.step()\n",
    "    losses_sgd.append(loss.item())\n",
    "\n",
    "# Plot the loss\n",
    "plt.plot(losses_sgd, label='SGD')\n"
   ]
  },
  {
   "cell_type": "markdown",
   "metadata": {},
   "source": [
    "# Adam Optimizer:"
   ]
  },
  {
   "cell_type": "code",
   "execution_count": 256,
   "metadata": {},
   "outputs": [
    {
     "data": {
      "text/plain": [
       "[<matplotlib.lines.Line2D at 0x7f9aeb922dc0>]"
      ]
     },
     "execution_count": 256,
     "metadata": {},
     "output_type": "execute_result"
    },
    {
     "data": {
      "image/png": "[encoded data removed]",
      "text/plain": [
       "<Figure size 432x288 with 1 Axes>"
      ]
     },
     "metadata": {
      "needs_background": "light"
     },
     "output_type": "display_data"
    }
   ],
   "source": [
    "model_for_Adam = LinearRegressionModel()\n",
    "\n",
    "\n",
    "# Optimizer (Adam)\n",
    "optimizer_adam = optim.Adam(model_for_Adam.parameters(), lr=0.01)\n",
    "\n",
    "# Training loop\n",
    "losses_adam = []\n",
    "for epoch in range(num_epochs):\n",
    "    optimizer_adam.zero_grad()\n",
    "    outputs = model_for_Adam(x_input)\n",
    "    loss = criterion(outputs, y)\n",
    "    loss.backward()\n",
    "    optimizer_adam.step()\n",
    "    losses_adam.append(loss.item())\n",
    "\n",
    "# Plot the loss\n",
    "plt.plot(losses_adam, label='Adam')\n"
   ]
  },
  {
   "cell_type": "markdown",
   "metadata": {},
   "source": [
    "# RMSprop Optimizer:"
   ]
  },
  {
   "cell_type": "code",
   "execution_count": 259,
   "metadata": {},
   "outputs": [
    {
     "data": {
      "text/plain": [
       "[<matplotlib.lines.Line2D at 0x7f9aeb880e20>]"
      ]
     },
     "execution_count": 259,
     "metadata": {},
     "output_type": "execute_result"
    },
    {
     "data": {
      "image/png": "[encoded data removed]",
      "text/plain": [
       "<Figure size 432x288 with 1 Axes>"
      ]
     },
     "metadata": {
      "needs_background": "light"
     },
     "output_type": "display_data"
    }
   ],
   "source": [
    "model_for_RMSprop = LinearRegressionModel()\n",
    "# Optimizer (RMSprop)\n",
    "optimizer_rmsprop = optim.RMSprop(model_for_RMSprop.parameters(), lr=0.01)\n",
    "\n",
    "# Training loop\n",
    "losses_rmsprop = []\n",
    "for epoch in range(num_epochs):\n",
    "    optimizer_rmsprop.zero_grad()\n",
    "    outputs = model_for_RMSprop(x_input)\n",
    "    loss = criterion(outputs, y)\n",
    "    loss.backward()\n",
    "    optimizer_rmsprop.step()\n",
    "    losses_rmsprop.append(loss.item())\n",
    "\n",
    "# Plot the loss\n",
    "plt.plot(losses_rmsprop, label='RMSprop')\n"
   ]
  },
  {
   "cell_type": "markdown",
   "metadata": {},
   "source": [
    "After training, you can visualize the loss curves for each optimizer:\n",
    "\n"
   ]
  },
  {
   "cell_type": "code",
   "execution_count": 262,
   "metadata": {},
   "outputs": [
    {
     "data": {
      "text/plain": [
       "<matplotlib.legend.Legend at 0x7f9aeb813850>"
      ]
     },
     "execution_count": 262,
     "metadata": {},
     "output_type": "execute_result"
    },
    {
     "data": {
      "image/png": "[encoded data removed]",
      "text/plain": [
       "<Figure size 432x288 with 1 Axes>"
      ]
     },
     "metadata": {
      "needs_background": "light"
     },
     "output_type": "display_data"
    }
   ],
   "source": [
    "plt.plot(losses_sgd, label='SGD')\n",
    "plt.plot(losses_adam, label='Adam')\n",
    "plt.plot(losses_rmsprop, label='RMSprop')\n",
    "#plt.xlim([0, 2500])\n",
    "plt.xlabel('epoch')\n",
    "plt.ylabel('MSE loss')\n",
    "\n",
    "plt.legend(['SGD','Adam','RMSprop'])"
   ]
  },
  {
   "cell_type": "code",
   "execution_count": 261,
   "metadata": {},
   "outputs": [
    {
     "name": "stdout",
     "output_type": "stream",
     "text": [
      "SGD\n",
      "Parameter containing:\n",
      "tensor([[ 3.8190,  0.6904, -3.4185]], requires_grad=True)\n",
      "Parameter containing:\n",
      "tensor([0.9405], requires_grad=True)\n",
      "RMSProp\n",
      "Parameter containing:\n",
      "tensor([[ 3.0615,  1.8921, -3.9614]], requires_grad=True)\n",
      "Parameter containing:\n",
      "tensor([0.9909], requires_grad=True)\n",
      "Adam\n",
      "Parameter containing:\n",
      "tensor([[ 3.0022,  1.9966, -3.9985]], requires_grad=True)\n",
      "Parameter containing:\n",
      "tensor([0.9999], requires_grad=True)\n"
     ]
    }
   ],
   "source": [
    "print('SGD')\n",
    "\n",
    "for i in model_for_SGD.parameters():\n",
    "    print(i)\n",
    "\n",
    "\n",
    "print('RMSProp')\n",
    "\n",
    "for i in model_for_RMSprop.parameters():\n",
    "    print(i)\n",
    "\n",
    "print('Adam')\n",
    "for i in model_for_Adam.parameters():\n",
    "    print(i)\n"
   ]
  }
 ],
 "metadata": {
  "kernelspec": {
   "display_name": "Python 3 (ipykernel)",
   "language": "python",
   "name": "python3"
  },
  "language_info": {
   "codemirror_mode": {
    "name": "ipython",
    "version": 3
   },
   "file_extension": ".py",
   "mimetype": "text/x-python",
   "name": "python",
   "nbconvert_exporter": "python",
   "pygments_lexer": "ipython3",
   "version": "3.9.12"
  }
 },
 "nbformat": 4,
 "nbformat_minor": 2
}
